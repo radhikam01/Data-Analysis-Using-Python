{
 "cells": [
  {
   "cell_type": "markdown",
   "metadata": {},
   "source": [
    "# Question 3"
   ]
  },
  {
   "cell_type": "code",
   "execution_count": 5,
   "metadata": {
    "collapsed": false
   },
   "outputs": [
    {
     "name": "stdout",
     "output_type": "stream",
     "text": [
      "Number of lines for Jack Sparrow:  193\n",
      "Number of lines for Will Turner:  133\n",
      "Are Jack's lines more than Will's lines?  True\n"
     ]
    }
   ],
   "source": [
    "import nltk\n",
    "from nltk.corpus import webtext\n",
    "webtext.fileids()\n",
    "text = nltk.corpus.webtext.raw('pirates.txt')\n",
    "import re\n",
    "Jack = len(re.findall('JACK SPARROW',text))\n",
    "Will = len(re.findall('WILL TURNER',text))\n",
    "print(\"Number of lines for Jack Sparrow: \",Jack)\n",
    "print(\"Number of lines for Will Turner: \",Will)\n",
    "print(\"Are Jack's lines more than Will's lines? \", Jack > Will)"
   ]
  }
 ],
 "metadata": {
  "anaconda-cloud": {},
  "kernelspec": {
   "display_name": "Python [conda root]",
   "language": "python",
   "name": "conda-root-py"
  },
  "language_info": {
   "codemirror_mode": {
    "name": "ipython",
    "version": 3
   },
   "file_extension": ".py",
   "mimetype": "text/x-python",
   "name": "python",
   "nbconvert_exporter": "python",
   "pygments_lexer": "ipython3",
   "version": "3.5.2"
  }
 },
 "nbformat": 4,
 "nbformat_minor": 1
}
