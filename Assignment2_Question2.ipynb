{
 "cells": [
  {
   "cell_type": "code",
   "execution_count": 24,
   "metadata": {
    "collapsed": true
   },
   "outputs": [],
   "source": [
    "import csv\n",
    "import os, json\n",
    "import pandas as pd\n",
    "import datetime\n",
    "import shutil\n",
    "# Assigning the path of the source and destination folders to a variable\n",
    "path_processed_data = 'DataProcessed'\n",
    "path = 'C:/Users/hp/DataAnalysis4Python_Spring17/Assignment 2'\n",
    "path_to_json = 'C:/Users/hp/DataAnalysis4Python_Spring17/Assignment 2/Data'\n",
    "json_files = [pj for pj in os.listdir(path_to_json) if pj.endswith('.json')] #looping in the folder \"data\" where the the json files are placed \n",
    "#print (json_files) "
   ]
  },
  {
   "cell_type": "code",
   "execution_count": 25,
   "metadata": {
    "collapsed": true
   },
   "outputs": [],
   "source": [
    "def ensure_dir(path_to_folder): #declaring a function \n",
    "    if not os.path.exists(path_to_folder): #if the folder doesn't exist then create the directory\n",
    "        os.makedirs(path_to_folder)# make a directory"
   ]
  },
  {
   "cell_type": "code",
   "execution_count": 26,
   "metadata": {
    "collapsed": true
   },
   "outputs": [],
   "source": [
    "from shutil import copy\n",
    "import glob \n",
    "fil=\"*.json\"\n",
    "os.makedirs('Processed Data')"
   ]
  },
  {
   "cell_type": "code",
   "execution_count": 27,
   "metadata": {
    "collapsed": false
   },
   "outputs": [],
   "source": [
    "from shutil import copy\n",
    "import glob \n",
    "for js in glob.glob(os.path.join(path_to_json,fil)):\n",
    "            loaded_file = json.loads(open(js).read())\n",
    "            for key,value in loaded_file.items():\n",
    "                if key == 'location':\n",
    "                    country = value.get('country')\n",
    "                    state = value.get('state')\n",
    "                    city = value.get('city')\n",
    "                    zipcode = value.get('zip_code')\n",
    "                    path = os.path.join(path_to_folder + '/' + country)\n",
    "                    path = os.path.join(path + '/' + state)\n",
    "                    path = os.path.join(path + '/' + city)\n",
    "                    path = os.path.join(path + '/' + zipcode)\n",
    "                    #path = os.path.join(path + '/' + js)\n",
    "                if key == 'term':\n",
    "                    term = loaded_file.get('term')\n",
    "                    path = os.path.join(path + '/' + term)\n",
    "                    ensure_dir(path)\n",
    "            copy(js,path)"
   ]
  },
  {
   "cell_type": "markdown",
   "metadata": {},
   "source": [
    "#------------------------------------PART2--------------------------------------------------#"
   ]
  },
  {
   "cell_type": "code",
   "execution_count": 23,
   "metadata": {
    "collapsed": false
   },
   "outputs": [],
   "source": [
    "csvfile = open('C:/Users/hp/DataAnalysis4Python_Spring17/Assignment 2/Hours.csv','w',newline=\"\",encoding='utf-8',errors = 'ignore')\n",
    "writer = csv.writer(csvfile)\n",
    "writer.writerow(['Name of Restaurant','City','Country Code','Day of Week','Start Time Hour','Start Time Minute','End Time Hour','End Time Minute'])\n",
    "for js in glob.glob(os.path.join(path_to_json,fil)):\n",
    "            loaded_file = json.loads(open(js).read())\n",
    "            for key,value in loaded_file.items():\n",
    "                if value=='restaurants':\n",
    "                    name=loaded_file['name']\n",
    "                    for key,value in loaded_file.items():\n",
    "                        if key=='location':\n",
    "                            city=value.get('city')\n",
    "                            country=value.get('country')\n",
    "                            for key,value in loaded_file.items():       \n",
    "                                if key=='hours':\n",
    "                                    for v in value:\n",
    "                                        for k,v in v.items():\n",
    "                                            if k=='open':\n",
    "                                                for a in v:\n",
    "                                                    st= datetime.datetime.strptime(a['start'],\"%H%M\")\n",
    "                                                    end=datetime.datetime.strptime(a['end'],\"%H%M\")\n",
    "                                                    writer.writerow([name,city,country,a['day'],st.hour,st.minute,end.hour,end.minute])"
   ]
  }
 ],
 "metadata": {
  "anaconda-cloud": {},
  "kernelspec": {
   "display_name": "Python [conda root]",
   "language": "python",
   "name": "conda-root-py"
  },
  "language_info": {
   "codemirror_mode": {
    "name": "ipython",
    "version": 3
   },
   "file_extension": ".py",
   "mimetype": "text/x-python",
   "name": "python",
   "nbconvert_exporter": "python",
   "pygments_lexer": "ipython3",
   "version": "3.5.2"
  }
 },
 "nbformat": 4,
 "nbformat_minor": 1
}
