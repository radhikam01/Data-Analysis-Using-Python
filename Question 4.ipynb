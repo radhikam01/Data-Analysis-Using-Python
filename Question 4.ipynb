{
 "cells": [
  {
   "cell_type": "markdown",
   "metadata": {},
   "source": [
    "# Question 4: Under package nps_chat, see what files are in it."
   ]
  },
  {
   "cell_type": "code",
   "execution_count": 18,
   "metadata": {
    "collapsed": false
   },
   "outputs": [
    {
     "name": "stdout",
     "output_type": "stream",
     "text": [
      "Files in nps_chat:  ['10-19-20s_706posts.xml', '10-19-30s_705posts.xml', '10-19-40s_686posts.xml', '10-19-adults_706posts.xml', '10-24-40s_706posts.xml', '10-26-teens_706posts.xml', '11-06-adults_706posts.xml', '11-08-20s_705posts.xml', '11-08-40s_706posts.xml', '11-08-adults_705posts.xml', '11-08-teens_706posts.xml', '11-09-20s_706posts.xml', '11-09-40s_706posts.xml', '11-09-adults_706posts.xml', '11-09-teens_706posts.xml']\n"
     ]
    }
   ],
   "source": [
    "import nltk\n",
    "from nltk.corpus import nps_chat\n",
    "print(\"Files in nps_chat: \", nps_chat.fileids())"
   ]
  },
  {
   "cell_type": "markdown",
   "metadata": {},
   "source": [
    "# Find 'user121' and see how many posts he posted in all"
   ]
  },
  {
   "cell_type": "code",
   "execution_count": 19,
   "metadata": {
    "collapsed": false
   },
   "outputs": [
    {
     "name": "stdout",
     "output_type": "stream",
     "text": [
      "Number of posts by user121:  132\n"
     ]
    }
   ],
   "source": [
    "count = 0\n",
    "posts = nps_chat.xml_posts()\n",
    "for x in posts:\n",
    "    if x.get('user').endswith('User121'):\n",
    "        count = count + 1\n",
    "print(\"Number of posts by user121: \",count)"
   ]
  },
  {
   "cell_type": "markdown",
   "metadata": {},
   "source": [
    "# Find out how many unique user in each age range group."
   ]
  },
  {
   "cell_type": "code",
   "execution_count": 44,
   "metadata": {
    "collapsed": false
   },
   "outputs": [
    {
     "name": "stdout",
     "output_type": "stream",
     "text": [
      "Unique users of age group 20: 305\n",
      "Unique users of age group 30: 44\n",
      "Unique users of age group 40: 228\n",
      "Unique users of age group Adults: 357\n",
      "Unique users of age group Teens: 443\n"
     ]
    }
   ],
   "source": [
    "user20s = []\n",
    "user30s = []\n",
    "user40s = []\n",
    "userAdults = []\n",
    "userTeens = []\n",
    "for post in posts:\n",
    "    user = post.get('user')\n",
    "    if user[6:9] == '20s':\n",
    "        user20s.append(user)\n",
    "    if user[6:9] == '30s':\n",
    "        user30s.append(user)\n",
    "    if user[6:9] == '40s':\n",
    "        user40s.append(user)\n",
    "    if user[6:9] == 'adu':\n",
    "        userAdults.append(user)\n",
    "    if user[6:9] == 'tee':\n",
    "        userTeens.append(user)\n",
    "user_20 = len(set(user20s))\n",
    "user_30 = len(set(user30s))\n",
    "user_40 = len(set(user40s))\n",
    "user_adult = len(set(userAdults))\n",
    "user_teen = len(set(userTeens))\n",
    "print(\"Unique users of age group 20:\",user_20)\n",
    "print(\"Unique users of age group 30:\",user_30)\n",
    "print(\"Unique users of age group 40:\",user_40)\n",
    "print(\"Unique users of age group Adults:\",user_adult)\n",
    "print(\"Unique users of age group Teens:\",user_teen)"
   ]
  }
 ],
 "metadata": {
  "anaconda-cloud": {},
  "kernelspec": {
   "display_name": "Python [conda root]",
   "language": "python",
   "name": "conda-root-py"
  },
  "language_info": {
   "codemirror_mode": {
    "name": "ipython",
    "version": 3
   },
   "file_extension": ".py",
   "mimetype": "text/x-python",
   "name": "python",
   "nbconvert_exporter": "python",
   "pygments_lexer": "ipython3",
   "version": "3.5.2"
  }
 },
 "nbformat": 4,
 "nbformat_minor": 1
}
