{
 "cells": [
  {
   "cell_type": "markdown",
   "metadata": {},
   "source": [
    "# Question 1 - Find how many words and how many unique w"
   ]
  },
  {
   "cell_type": "code",
   "execution_count": 4,
   "metadata": {
    "collapsed": false
   },
   "outputs": [
    {
     "name": "stdout",
     "output_type": "stream",
     "text": [
      "Number of words in the file:  98171\n",
      "Number of unique words in the file:  6132\n"
     ]
    }
   ],
   "source": [
    "import nltk\n",
    "#Importing the gutenberg \n",
    "from nltk.corpus import gutenberg\n",
    "gutenberg.fileids()\n",
    "string = len(gutenberg.words('austen-persuasion.txt'))\n",
    "print(\"Number of words in the file: \",string)\n",
    "string1 = len(set(gutenberg.words('austen-persuasion.txt')))\n",
    "print(\"Number of unique words in the file: \",string1)"
   ]
  },
  {
   "cell_type": "code",
   "execution_count": null,
   "metadata": {
    "collapsed": true
   },
   "outputs": [],
   "source": [
    "import nltk\n",
    "from nltk.corpus import gutenberg\n",
    "#from collections import Counter\n",
    "words=nltk.corpus.gutenberg.words('austen-persuasion.txt')\n",
    "d=dict()\n",
    "for c in words:\n",
    "    if c not in d:\n",
    "        d[c]=1\n",
    "    else:\n",
    "        d[c]=d[c]+1\n",
    "    print(d)"
   ]
  }
 ],
 "metadata": {
  "kernelspec": {
   "display_name": "Python [conda root]",
   "language": "python",
   "name": "conda-root-py"
  },
  "language_info": {
   "codemirror_mode": {
    "name": "ipython",
    "version": 3
   },
   "file_extension": ".py",
   "mimetype": "text/x-python",
   "name": "python",
   "nbconvert_exporter": "python",
   "pygments_lexer": "ipython3",
   "version": "3.5.2"
  }
 },
 "nbformat": 4,
 "nbformat_minor": 1
}
