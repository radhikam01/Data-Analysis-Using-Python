{
 "cells": [
  {
   "cell_type": "markdown",
   "metadata": {},
   "source": [
    "# Assignment 2 - Question 2- Part 1\n",
    "\n",
    "Read all the json files in the folder called Data\n",
    "\n",
    "Create a folder structure to read all these json files and store them into these separate folders\n",
    "\n",
    "You are expected to create a hierarchy of folder structure\n",
    "\n",
    "Your task is to identify criteria by which you can group all these json files and store them"
   ]
  },
  {
   "cell_type": "code",
   "execution_count": 18,
   "metadata": {
    "collapsed": false
   },
   "outputs": [],
   "source": [
    "#Importing the required packages\n",
    "import csv\n",
    "import os, json\n",
    "import pandas as pd\n",
    "import datetime\n",
    "import shutil\n",
    "\n",
    "# Assigning the path of the source and destination folders to variables\n",
    "path_processed_data = 'DataProcessed'\n",
    "path = 'C:/Users/hp/DataAnalysis4Python_Spring17/Assignment 2'\n",
    "path_json_files = 'C:/Users/hp/DataAnalysis4Python_Spring17/Assignment 2/Data'\n",
    "\n",
    "#Looping in the folder \"Data\" where the the json files are placed \n",
    "json_files = [pj for pj in os.listdir(path_json_files) if pj.endswith('.json')] \n"
   ]
  },
  {
   "cell_type": "code",
   "execution_count": 19,
   "metadata": {
    "collapsed": true
   },
   "outputs": [],
   "source": [
    "#Declaring a function f_dir for the processed data \n",
    "def f_dir(path_processed_data): \n",
    "    if not os.path.exists(path_processed_data): #It will create a directory if the folder doesn't exist\n",
    "        os.makedirs(path_processed_data) #Creating a directory"
   ]
  },
  {
   "cell_type": "code",
   "execution_count": 20,
   "metadata": {
    "collapsed": false
   },
   "outputs": [],
   "source": [
    "#Importing the shutil and glob package\n",
    "from shutil import copy\n",
    "import glob \n",
    "\n",
    "#Assigning the tag '.json' into files variable so as to pick those files only\n",
    "files = \"*.json\"\n",
    "os.makedirs('Processed Data')"
   ]
  },
  {
   "cell_type": "code",
   "execution_count": 27,
   "metadata": {
    "collapsed": false
   },
   "outputs": [],
   "source": [
    "from shutil import copy\n",
    "import glob \n",
    "\n",
    "#Creating a for loop for each file in the list of json files\n",
    "for j in glob.glob(os.path.join(path_json_files,files)):\n",
    "            loaded_file = json.loads(open(j).read())\n",
    "            for key,value in loaded_file.items(): #loaded_file.items will create key and value\n",
    "                if key == 'location': \n",
    "                    country = value.get('country') #getting the country name\n",
    "                    state = value.get('state') #getting the state name\n",
    "                    city = value.get('city') #getting the city name\n",
    "                    zipcode = value.get('zip_code') #getting the zipcode\n",
    "                    path = os.path.join(path_processed_data + '/' + country) #joining name with the path\n",
    "                    path = os.path.join(path + '/' + state)\n",
    "                    path = os.path.join(path + '/' + city)\n",
    "                    path = os.path.join(path + '/' + zipcode)\n",
    "                    \n",
    "                if key == 'term':\n",
    "                    term = loaded_file.get('term') #getting the term name\n",
    "                    path = os.path.join(path + '/' + term) #joining name with the path\n",
    "                    f_dir(path) #Calling the function created above to see if the path exists or not\n",
    "                    copy(j,path) #copying the files into the path"
   ]
  },
  {
   "cell_type": "markdown",
   "metadata": {},
   "source": [
    "# Question 2 - Part 2\n",
    "\n",
    "Read all the json files in the folder called Data\n",
    "\n",
    "Read only the json files which contain the key called “restaurants”\n",
    "\n",
    "Each (or most of the json files) contain a key called “open” which contains the details of the operation (timings) of the restaurants\n",
    "\n",
    "For each json file, read the timings of the restaurants\n",
    "\n",
    "Data of the operation timings of the restaurants is present for each day of the week\n",
    "\n",
    "I want you to extract each of this data and write it in an excel sheet\n",
    "\n",
    "Split “Start Time” column into two different columns having the hour and minute in each of them\n",
    "\n",
    "Split “End Time” column into two different columns having the hour and minute in each of them"
   ]
  },
  {
   "cell_type": "code",
   "execution_count": 25,
   "metadata": {
    "collapsed": false
   },
   "outputs": [],
   "source": [
    "#Opening a new csvfile \n",
    "file_csv = open('C:/Users/hp/DataAnalysis4Python_Spring17/Assignment 2/Hours.csv','w',newline=\"\",encoding='utf-8',errors = 'ignore')\n",
    "\n",
    "##converts csvfile suitable for writing and assigning it into output\n",
    "write_csv = csv.writer(file_csv)\n",
    "\n",
    "#Iterating the data over the rows\n",
    "write_csv.writerow(['Name of Restaurant','City','Country Code','Day of Week','Start Time Hour','Start Time Minute','End Time Hour','End Time Minute'])\n",
    "\n",
    "#Creating a for loop for each file in the list of json files\n",
    "for js in glob.glob(os.path.join(path_json_files,files)):\n",
    "            loaded_file = json.loads(open(js).read())\n",
    "            for key,value in loaded_file.items(): #loaded_file.items will create key and value \n",
    "                if value == 'restaurants':\n",
    "                    name = loaded_file['name']\n",
    "                    for key,value in loaded_file.items():\n",
    "                        if key == 'location':\n",
    "                            city = value.get('city')\n",
    "                            country = value.get('country')\n",
    "                            for key,value in loaded_file.items():       \n",
    "                                if key == 'hours':\n",
    "                                    for v in value:\n",
    "                                        for k,v in v.items():\n",
    "                                            if k == 'open':\n",
    "                                                for a in v:\n",
    "                                                    start = datetime.datetime.strptime(a['start'],\"%H%M\") #striping the start time into hours and minutes\n",
    "                                                    end = datetime.datetime.strptime(a['end'],\"%H%M\") ##striping the end time into hours and minutes\n",
    "                                                    write_csv.writerow([name,city,country,a['day'],start.hour,start.minute,end.hour,end.minute]) #Writing back into the csv"
   ]
  }
 ],
 "metadata": {
  "anaconda-cloud": {},
  "kernelspec": {
   "display_name": "Python [conda root]",
   "language": "python",
   "name": "conda-root-py"
  },
  "language_info": {
   "codemirror_mode": {
    "name": "ipython",
    "version": 3
   },
   "file_extension": ".py",
   "mimetype": "text/x-python",
   "name": "python",
   "nbconvert_exporter": "python",
   "pygments_lexer": "ipython3",
   "version": "3.5.2"
  }
 },
 "nbformat": 4,
 "nbformat_minor": 1
}
