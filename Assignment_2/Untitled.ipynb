{
 "cells": [
  {
   "cell_type": "code",
   "execution_count": 2,
   "metadata": {
    "collapsed": false
   },
   "outputs": [],
   "source": [
    "import os\n",
    "path_to_json = 'C:/Users/hp/Desktop/2nd Sem Northeastern University/Data Analysis Using Python/Midterm Assignment/Q2Data/Elections'\n",
    "json_files = [j for j in os.listdir(path_to_json) if j.endswith('.json')]"
   ]
  },
  {
   "cell_type": "code",
   "execution_count": 8,
   "metadata": {
    "collapsed": false
   },
   "outputs": [],
   "source": [
    "#---------------ANALYSIS 1------------------------------------------------------------------------------\n",
    "import glob\n",
    "import json\n",
    "files = \"*.json\"\n",
    "v_list = []\n",
    "import csv\n",
    "from collections import Counter\n",
    "file_csv = open('C:/Users/hp/Desktop/2nd Sem Northeastern University/Data Analysis Using Python/Midterm Assignment/Midterm_Question 2/Keywords.csv','w',newline = \"\", encoding = 'utf-8', errors = 'ignore')\n",
    "write_csv = csv.writer(file_csv)\n",
    "write_csv.writerow(['Most common Keyword','Count'])\n",
    "for j in glob.glob(os.path.join(path_to_json,files)):\n",
    "            loaded_file = json.loads(open(j).read())\n",
    "            response = loaded_file['response']\n",
    "            docs = response['docs']\n",
    "            for files in docs:\n",
    "                keywords = files['keywords']\n",
    "                for i in range(0,len(keywords)):\n",
    "                    values = keywords[i]\n",
    "                    #print(values)\n",
    "                    for key, value in values.items():\n",
    "                        if key == 'value':\n",
    "                            v = value\n",
    "                            v_list.append(v)\n",
    "#print(v_list)\n",
    "count = Counter(v_list)\n",
    "final_count = count.most_common()\n",
    "for i in range (0,len(final_count)):\n",
    "    for b in final_count:\n",
    "        #print(b[0])\n",
    "        write_csv.writerow([b[0],b[1]])\n",
    "                #file.write(b+\"\\n\")\n",
    "    #print(final_count)"
   ]
  }
 ],
 "metadata": {
  "kernelspec": {
   "display_name": "Python [conda root]",
   "language": "python",
   "name": "conda-root-py"
  },
  "language_info": {
   "codemirror_mode": {
    "name": "ipython",
    "version": 3
   },
   "file_extension": ".py",
   "mimetype": "text/x-python",
   "name": "python",
   "nbconvert_exporter": "python",
   "pygments_lexer": "ipython3",
   "version": "3.5.2"
  }
 },
 "nbformat": 4,
 "nbformat_minor": 1
}
