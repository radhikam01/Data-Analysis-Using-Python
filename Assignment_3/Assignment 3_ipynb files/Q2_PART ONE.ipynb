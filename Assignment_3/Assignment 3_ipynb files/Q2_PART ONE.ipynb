{
 "cells": [
  {
   "cell_type": "markdown",
   "metadata": {
    "deletable": true,
    "editable": true
   },
   "source": [
    "# Finding out the highest paid departments in each organization group by calculating mean of total compensation for every department"
   ]
  },
  {
   "cell_type": "code",
   "execution_count": 1,
   "metadata": {
    "collapsed": true,
    "deletable": true,
    "editable": true
   },
   "outputs": [],
   "source": [
    "#Importing all required packages\n",
    "from pandas import Series, DataFrame\n",
    "import pandas as pd\n",
    "import numpy as np\n",
    "pd.options.mode.chained_assignment = None #'warn'"
   ]
  },
  {
   "cell_type": "code",
   "execution_count": 2,
   "metadata": {
    "collapsed": false,
    "deletable": true,
    "editable": true
   },
   "outputs": [],
   "source": [
    "#Reading the 'Employee Compensation' data\n",
    "ec = pd.read_csv(\"employee_compensation.csv\")\n",
    "\n",
    "#Viewing the dataframe using head function\n",
    "#print(ec.head())"
   ]
  },
  {
   "cell_type": "code",
   "execution_count": 3,
   "metadata": {
    "collapsed": false,
    "deletable": true,
    "editable": true
   },
   "outputs": [],
   "source": [
    "#Calculating the mean of the Total Compensation based on department in each organization using group by\n",
    "ec_frame = ec.groupby([ec['Organization Group'], ec['Department']])['Total Compensation'].mean()\n",
    "\n",
    "#Viewing the dataframe using head function\n",
    "#print(ec_frame.head())"
   ]
  },
  {
   "cell_type": "code",
   "execution_count": 7,
   "metadata": {
    "collapsed": false,
    "deletable": true,
    "editable": true
   },
   "outputs": [],
   "source": [
    "#Converting the series dataset into dataframe\n",
    "ec_dataframe = pd.DataFrame(ec_frame)\n",
    "\n",
    "#Resetting the index for alignment of columns\n",
    "ec_indexed = ec_dataframe.reset_index()\n",
    "\n",
    "#Viewing the dataframe using head function\n",
    "#print(ec_indexed.head())"
   ]
  },
  {
   "cell_type": "code",
   "execution_count": 8,
   "metadata": {
    "collapsed": false,
    "deletable": true,
    "editable": true
   },
   "outputs": [
    {
     "name": "stdout",
     "output_type": "stream",
     "text": [
      "     Organization Group           Department  Total Compensation\n",
      "0      Community Health        Public Health        96190.190140\n",
      "5  Culture & Recreation          Law Library       188424.362222\n",
      "1  Culture & Recreation  Academy of Sciences       107319.727692\n",
      "2  Culture & Recreation      Arts Commission        94339.597388\n",
      "8  Culture & Recreation         War Memorial        76250.068022\n"
     ]
    }
   ],
   "source": [
    "#Sorting the result in descending order so as to show the highest total compensation based on each organization\n",
    "ec_final_data = ec_indexed.sort_values(['Organization Group','Total Compensation'], ascending = [True,False])\n",
    "print(ec_final_data.head())"
   ]
  },
  {
   "cell_type": "code",
   "execution_count": 7,
   "metadata": {
    "collapsed": true,
    "deletable": true,
    "editable": true
   },
   "outputs": [],
   "source": [
    "#Writing the output into a csv\n",
    "ec_final_data.to_csv('Q2_Part_One.csv', sep = '\\t')"
   ]
  }
 ],
 "metadata": {
  "kernelspec": {
   "display_name": "Python 3",
   "language": "python",
   "name": "python3"
  },
  "language_info": {
   "codemirror_mode": {
    "name": "ipython",
    "version": 3
   },
   "file_extension": ".py",
   "mimetype": "text/x-python",
   "name": "python",
   "nbconvert_exporter": "python",
   "pygments_lexer": "ipython3",
   "version": "3.6.0"
  }
 },
 "nbformat": 4,
 "nbformat_minor": 2
}
