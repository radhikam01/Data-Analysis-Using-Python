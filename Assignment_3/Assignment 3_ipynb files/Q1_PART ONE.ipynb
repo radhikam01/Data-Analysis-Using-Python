{
 "cells": [
  {
   "cell_type": "markdown",
   "metadata": {
    "deletable": true,
    "editable": true
   },
   "source": [
    "# Percentage of collisions in Manhattan out of 2016's total accidents in New York City"
   ]
  },
  {
   "cell_type": "code",
   "execution_count": 16,
   "metadata": {
    "collapsed": true,
    "deletable": true,
    "editable": true
   },
   "outputs": [],
   "source": [
    "#Importing all required packages\n",
    "from pandas import Series, DataFrame\n",
    "import pandas as pd\n",
    "import numpy as np\n",
    "import datetime\n",
    "import calendar\n",
    "pd.options.mode.chained_assignment = None #'warn'"
   ]
  },
  {
   "cell_type": "code",
   "execution_count": 17,
   "metadata": {
    "collapsed": false,
    "deletable": true,
    "editable": true
   },
   "outputs": [],
   "source": [
    "#Reading the 'Vehicle Collisions' data\n",
    "vc = pd.read_csv(\"vehicle_collisions.csv\")\n",
    "vc_frame = DataFrame(vc)"
   ]
  },
  {
   "cell_type": "code",
   "execution_count": 18,
   "metadata": {
    "collapsed": false,
    "deletable": true,
    "editable": true
   },
   "outputs": [],
   "source": [
    "#Extracting the date from the DATE column in vc_frame\n",
    "vc_frame['DATE'] = pd.to_datetime(vc['DATE'])\n",
    "\n",
    "#Taking out only the dates which are of the year 2016\n",
    "vc_dataframe_new = vc_frame[(vc_frame['DATE'] > '2015-12-31') & (vc_frame['DATE'] < '2017-01-01')]"
   ]
  },
  {
   "cell_type": "code",
   "execution_count": 19,
   "metadata": {
    "collapsed": false,
    "deletable": true,
    "editable": true
   },
   "outputs": [],
   "source": [
    "#Extracting the month from the DATE column using dt.month function\n",
    "vc_dataframe_new['MONTH'] = vc_frame['DATE'].dt.month"
   ]
  },
  {
   "cell_type": "code",
   "execution_count": 20,
   "metadata": {
    "collapsed": false,
    "deletable": true,
    "editable": true
   },
   "outputs": [
    {
     "name": "stdout",
     "output_type": "stream",
     "text": [
      "Empty DataFrame\n",
      "Columns: [Manhattan, NYC, Percentage]\n",
      "Index: []\n"
     ]
    }
   ],
   "source": [
    "#Creating a new dataframe with the columns 'Manhattan', 'NYC' and 'Percentage'\n",
    "vc_dataframe_final = DataFrame(columns = ['Manhattan','NYC','Percentage'])\n",
    "print(vc_dataframe_final)"
   ]
  },
  {
   "cell_type": "code",
   "execution_count": 21,
   "metadata": {
    "collapsed": false,
    "deletable": true,
    "editable": true
   },
   "outputs": [
    {
     "name": "stdout",
     "output_type": "stream",
     "text": [
      "    MONTH  Manhattan    NYC  Percentage\n",
      "0       1       3178  18101    0.175570\n",
      "1       2       3195  15985    0.199875\n",
      "2       3       3479  18471    0.188349\n",
      "3       4       3540  18331    0.193115\n",
      "4       5       3432  20052    0.171155\n",
      "5       6       2956  19433    0.152112\n",
      "6       7       3055  19867    0.153773\n",
      "7       8       2844  19678    0.144527\n",
      "8       9       2744  19492    0.140776\n",
      "9      10       2831  19666    0.143954\n",
      "10     11       2838  19315    0.146932\n",
      "11     12       2634  19214    0.137088\n"
     ]
    }
   ],
   "source": [
    "#Extracting the count of Manhattan collisions grouping by the month column\n",
    "vc_dataframe_final['Manhattan'] = vc_dataframe_new[vc_dataframe_new['BOROUGH']=='MANHATTAN'].groupby(['MONTH'],sort = False)['UNIQUE KEY'].count()\n",
    "\n",
    "#Extracting the count in the whole of New York City collisions grouping by the month column\n",
    "vc_dataframe_final['NYC'] = vc_dataframe_new.groupby(['MONTH'])['UNIQUE KEY'].count()\n",
    "\n",
    "#Taking out the percentage of collisions in Manhattan out of total New York City\n",
    "vc_dataframe_final['Percentage'] = (vc_dataframe_final['Manhattan']/vc_dataframe_final['NYC'])\n",
    "\n",
    "#Resetting the index of the new dataframe for alignment\n",
    "vc_indexed = vc_dataframe_final.reset_index()\n",
    "print(vc_indexed)"
   ]
  },
  {
   "cell_type": "code",
   "execution_count": 22,
   "metadata": {
    "collapsed": true,
    "deletable": true,
    "editable": true
   },
   "outputs": [],
   "source": [
    "#Changing the month number into the name of the month by using calender.month_abbr and lambda function\n",
    "vc_indexed['MONTH'] = vc_indexed['MONTH'].apply(lambda x: calendar.month_abbr[x])"
   ]
  },
  {
   "cell_type": "code",
   "execution_count": 23,
   "metadata": {
    "collapsed": false,
    "deletable": true,
    "editable": true
   },
   "outputs": [
    {
     "name": "stdout",
     "output_type": "stream",
     "text": [
      "  MONTH  Manhattan    NYC  Percentage\n",
      "0   Jan       3178  18101    0.175570\n",
      "1   Feb       3195  15985    0.199875\n",
      "2   Mar       3479  18471    0.188349\n",
      "3   Apr       3540  18331    0.193115\n",
      "4   May       3432  20052    0.171155\n"
     ]
    }
   ],
   "source": [
    "#Final output - showing the 1st five rows using the head function\n",
    "print(vc_indexed.head())"
   ]
  },
  {
   "cell_type": "code",
   "execution_count": 24,
   "metadata": {
    "collapsed": true,
    "deletable": true,
    "editable": true
   },
   "outputs": [],
   "source": [
    "#Writing the output into a csv\n",
    "vc_indexed.to_csv('Q1_Part_One.csv', sep = '\\t')"
   ]
  }
 ],
 "metadata": {
  "kernelspec": {
   "display_name": "Python 3",
   "language": "python",
   "name": "python3"
  },
  "language_info": {
   "codemirror_mode": {
    "name": "ipython",
    "version": 3
   },
   "file_extension": ".py",
   "mimetype": "text/x-python",
   "name": "python",
   "nbconvert_exporter": "python",
   "pygments_lexer": "ipython3",
   "version": "3.6.0"
  }
 },
 "nbformat": 4,
 "nbformat_minor": 2
}
