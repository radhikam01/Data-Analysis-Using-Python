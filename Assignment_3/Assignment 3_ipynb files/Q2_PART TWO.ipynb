{
 "cells": [
  {
   "cell_type": "markdown",
   "metadata": {
    "deletable": true,
    "editable": true
   },
   "source": [
    "# Average salary, benefits, compensation etc of each employee for the calendar year"
   ]
  },
  {
   "cell_type": "code",
   "execution_count": 2,
   "metadata": {
    "collapsed": true,
    "deletable": true,
    "editable": true
   },
   "outputs": [],
   "source": [
    "#Importing all required packages\n",
    "from pandas import Series, DataFrame\n",
    "import pandas as pd\n",
    "import numpy as np\n",
    "pd.options.mode.chained_assignment = None #'warn'"
   ]
  },
  {
   "cell_type": "code",
   "execution_count": 3,
   "metadata": {
    "collapsed": false,
    "deletable": true,
    "editable": true
   },
   "outputs": [],
   "source": [
    "#Reading the 'Employee Compensation' data\n",
    "frame = pd.read_csv(\"employee_compensation.csv\")\n",
    "\n",
    "#Checking the dataframe using head function\n",
    "#print(frame.head())"
   ]
  },
  {
   "cell_type": "code",
   "execution_count": 4,
   "metadata": {
    "collapsed": true,
    "deletable": true,
    "editable": true
   },
   "outputs": [],
   "source": [
    "#Filtering data by calendar year\n",
    "calendar = frame[frame['Year Type'] == 'Calendar']"
   ]
  },
  {
   "cell_type": "code",
   "execution_count": 9,
   "metadata": {
    "collapsed": false,
    "deletable": true,
    "editable": true
   },
   "outputs": [
    {
     "name": "stdout",
     "output_type": "stream",
     "text": [
      "                      Job Family  Employee Identifier  Salaries  Overtime  \\\n",
      "0               Journeyman Trade                52206  98528.52      0.00   \n",
      "2                     Management                33958    200.00      0.00   \n",
      "3                  Legal & Court                33073   1783.00      0.00   \n",
      "5  Clerical, Secretarial & Steno                23930  80207.24   2232.53   \n",
      "7            Public Service Aide                38054  24180.00      0.00   \n",
      "\n",
      "   Other Salaries  Total Salary  Retirement  Health/Dental  Other Benefits  \\\n",
      "0         3955.59     102484.11    20142.55       12918.24         8371.76   \n",
      "2            0.00        200.00        0.00          51.45           15.83   \n",
      "3            0.00       1783.00      325.05         257.23          153.85   \n",
      "5         1568.00      84007.77    15064.98       13890.29         6888.51   \n",
      "7            0.00      24180.00     1490.20        8586.13         1880.37   \n",
      "\n",
      "   Total Benefits  Total Compensation  \n",
      "0        41432.55           143916.66  \n",
      "2           67.28              267.28  \n",
      "3          736.13             2519.13  \n",
      "5        35843.78           119851.55  \n",
      "7        11956.70            36136.70  \n"
     ]
    }
   ],
   "source": [
    "#Finding out the average salary of all the salary related columns by grouping by on Employee Identifier column\n",
    "calendar_avg = calendar.groupby('Employee Identifier', sort = True).mean()\n",
    "\n",
    "#Removing all the other columns which are not related to salary and our analysis\n",
    "salary_avg = calendar.drop(calendar.columns[[0,1,2,3,4,5,6,7,8,10,11]], axis = 1)\n",
    "\n",
    "#Checking the dataframe using head function\n",
    "print(salary_avg.head())"
   ]
  },
  {
   "cell_type": "markdown",
   "metadata": {
    "deletable": true,
    "editable": true
   },
   "source": [
    "# Finding out the employees whose overtime salary is greater than 5% of salary column"
   ]
  },
  {
   "cell_type": "code",
   "execution_count": 8,
   "metadata": {
    "collapsed": false,
    "deletable": true,
    "editable": true
   },
   "outputs": [
    {
     "name": "stdout",
     "output_type": "stream",
     "text": [
      "                       Job Family  Employee Identifier   Salaries  Overtime  \\\n",
      "14     Agriculture & Horticulture                23029   63978.00  17039.61   \n",
      "23  Administrative-Labor & Trades                20763  133977.95  20699.15   \n",
      "38               Journeyman Trade                 8705   86530.02  17962.95   \n",
      "40                Police Services                13888  117139.22  20576.29   \n",
      "44                  Fire Services                38574  130341.65  29607.28   \n",
      "\n",
      "    Other Salaries  Total Salary  Retirement  Health/Dental  Other Benefits  \\\n",
      "14         2184.23      83201.84    14287.99       13054.95         6721.63   \n",
      "23            0.00     154677.10    24039.10       13890.30        10671.44   \n",
      "38        10555.21     115048.18    18665.90       12918.24         9328.44   \n",
      "40         5747.49     143463.00    23170.33       12424.51         2240.80   \n",
      "44        16292.82     176241.75    28793.64       15052.76         2995.69   \n",
      "\n",
      "    Total Benefits  Total Compensation  \n",
      "14        34064.57           117266.41  \n",
      "23        48600.84           203277.94  \n",
      "38        40912.58           155960.76  \n",
      "40        37835.64           181298.64  \n",
      "44        46842.09           223083.84  \n"
     ]
    }
   ],
   "source": [
    "#Checking if the employee has overtime salary greater than 5% of salaries\n",
    "salary_avg = salary_avg[salary_avg['Overtime'] > 0.05 * salary_avg['Salaries']]\n",
    "\n",
    "#Checking the dataframe using head function\n",
    "print(salary_avg.head())"
   ]
  },
  {
   "cell_type": "markdown",
   "metadata": {
    "deletable": true,
    "editable": true
   },
   "source": [
    "# Calculating the percentage of total benefits with respect to total compensation for each job family"
   ]
  },
  {
   "cell_type": "code",
   "execution_count": 10,
   "metadata": {
    "collapsed": false,
    "deletable": true,
    "editable": true,
    "scrolled": true
   },
   "outputs": [
    {
     "name": "stdout",
     "output_type": "stream",
     "text": [
      "                      Job Family  Total Benefits  Total Compensation\n",
      "0  Administrative & Mgmt (Unrep)    58060.547576       247806.655758\n",
      "1     Administrative Secretarial    28172.247500        99424.515500\n",
      "2         Administrative-DPW/PUC    41308.831921       156398.468644\n",
      "3  Administrative-Labor & Trades    40396.365472       163204.030849\n",
      "4     Agriculture & Horticulture    25483.396273        81719.509350\n"
     ]
    }
   ],
   "source": [
    "#Calcuating the mean of Total benefits and Total Compensation for each job family by grouping by on Job family\n",
    "salary_family = salary_avg.groupby('Job Family')['Total Benefits','Total Compensation'].mean()\n",
    "\n",
    "#Resetting the index of new dataframe and showing using head function\n",
    "#print(salary_family.reset_index().head())"
   ]
  },
  {
   "cell_type": "code",
   "execution_count": 11,
   "metadata": {
    "collapsed": false,
    "deletable": true,
    "editable": true
   },
   "outputs": [
    {
     "name": "stdout",
     "output_type": "stream",
     "text": [
      "                      Job Family  Total Benefits  Total Compensation  \\\n",
      "0            Public Service Aide     5267.903671        14956.280236   \n",
      "1                     Park & Zoo    17946.662641        54776.310325   \n",
      "2         Housekeeping & Laundry    24286.767749        74189.739399   \n",
      "3  Clerical, Secretarial & Steno    21549.044311        66517.545454   \n",
      "4                 Dietary & Food    19673.743314        61537.993465   \n",
      "\n",
      "   Percent_Total_Benefit  \n",
      "0              35.222018  \n",
      "1              32.763548  \n",
      "2              32.736020  \n",
      "3              32.396030  \n",
      "4              31.970076  \n"
     ]
    }
   ],
   "source": [
    "#Creating a new percentage column and calcuating the percentage of total benefits wrt total compensation for each job family\n",
    "salary_family['Percent_Total_Benefit'] = salary_family['Total Benefits']/salary_family['Total Compensation'] * 100\n",
    "\n",
    "#Sorting the result in descending order so as to show the highest percent value at the top\n",
    "final_benefits = salary_family.sort_values(['Percent_Total_Benefit'], ascending = False)\n",
    "\n",
    "#Resetting the index for alignment of columns\n",
    "final_dataframe = final_benefits.reset_index()\n",
    "\n",
    "#Showing the top five job families using head function\n",
    "print(final_dataframe.head())"
   ]
  },
  {
   "cell_type": "code",
   "execution_count": 26,
   "metadata": {
    "collapsed": true,
    "deletable": true,
    "editable": true
   },
   "outputs": [],
   "source": [
    "#Writing the output into a csv\n",
    "final_dataframe.to_csv('Q2_Part_Two.csv', sep = '\\t')"
   ]
  }
 ],
 "metadata": {
  "kernelspec": {
   "display_name": "Python 3",
   "language": "python",
   "name": "python3"
  },
  "language_info": {
   "codemirror_mode": {
    "name": "ipython",
    "version": 3
   },
   "file_extension": ".py",
   "mimetype": "text/x-python",
   "name": "python",
   "nbconvert_exporter": "python",
   "pygments_lexer": "ipython3",
   "version": "3.6.0"
  }
 },
 "nbformat": 4,
 "nbformat_minor": 2
}
