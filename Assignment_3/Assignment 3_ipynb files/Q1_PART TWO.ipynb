{
 "cells": [
  {
   "cell_type": "markdown",
   "metadata": {
    "deletable": true,
    "editable": true
   },
   "source": [
    "# For each borough, finding out distribution of each collision"
   ]
  },
  {
   "cell_type": "code",
   "execution_count": 1,
   "metadata": {
    "collapsed": true,
    "deletable": true,
    "editable": true
   },
   "outputs": [],
   "source": [
    "#Importing all required packages\n",
    "from pandas import Series, DataFrame \n",
    "import pandas as pd\n",
    "import numpy as np\n",
    "pd.options.mode.chained_assignment = None #'warn'"
   ]
  },
  {
   "cell_type": "code",
   "execution_count": 2,
   "metadata": {
    "collapsed": true,
    "deletable": true,
    "editable": true
   },
   "outputs": [],
   "source": [
    "#Reading the 'Vehicle Collisions' data\n",
    "vc = pd.read_csv('vehicle_collisions.csv')\n",
    "vc_frame = DataFrame(vc)"
   ]
  },
  {
   "cell_type": "code",
   "execution_count": 4,
   "metadata": {
    "collapsed": false,
    "deletable": true,
    "editable": true
   },
   "outputs": [],
   "source": [
    "#Taking out the count of all the vehicle1,2,3,4 type columns based on borough by using group by function\n",
    "vc_frame_new = vc_frame.groupby(['BOROUGH'],sort = False)['VEHICLE 1 TYPE','VEHICLE 2 TYPE','VEHICLE 3 TYPE','VEHICLE 4 TYPE'].count().reset_index()\n",
    "\n",
    "#Creating an empty dataframe\n",
    "vc_dataframe = DataFrame() \n",
    "\n",
    "#Copying the borough column to new dataframe\n",
    "vc_dataframe['BOROUGH'] = vc_frame_new['BOROUGH']  \n",
    "\n",
    "#Calculating count of one vehicle involved\n",
    "vc_dataframe['One_Vehicle_Involved'] = vc_frame_new['VEHICLE 1 TYPE'] - vc_frame_new['VEHICLE 2 TYPE'] \n",
    "\n",
    "#Calculating count of two vehicles involved\n",
    "vc_dataframe['Two_Vehicles_Involved'] = vc_frame_new['VEHICLE 2 TYPE'] - vc_frame_new['VEHICLE 3 TYPE'] \n",
    "\n",
    "#Calculating count of three vehicles involved\n",
    "vc_dataframe['Three_Vehicles_Involved'] = vc_frame_new['VEHICLE 3 TYPE'] - vc_frame_new['VEHICLE 4 TYPE'] \n",
    "\n",
    "#Calculating count of more than three Vehicles involved\n",
    "vc_dataframe['More_Vehicle_Involved'] = vc_frame_new['VEHICLE 4 TYPE'] \n",
    "\n",
    "vc_dataframe.set_index('BOROUGH', inplace = True)\n",
    "\n",
    "#print(vc_dataframe.head())"
   ]
  },
  {
   "cell_type": "code",
   "execution_count": 5,
   "metadata": {
    "collapsed": false,
    "deletable": true,
    "editable": true
   },
   "outputs": [
    {
     "name": "stdout",
     "output_type": "stream",
     "text": [
      "         BOROUGH  One_Vehicle_Involved  Two_Vehicles_Involved  \\\n",
      "0         QUEENS                 12962                  70260   \n",
      "1       BROOKLYN                 17375                  80207   \n",
      "2      MANHATTAN                 13318                  66958   \n",
      "3          BRONX                  8627                  34385   \n",
      "4  STATEN ISLAND                  2343                  10676   \n",
      "\n",
      "   Three_Vehicles_Involved  More_Vehicle_Involved  \n",
      "0                     4498                   1420  \n",
      "1                     4980                   1612  \n",
      "2                     2024                    501  \n",
      "3                     1962                    625  \n",
      "4                      759                    165  \n"
     ]
    }
   ],
   "source": [
    "#Resetting the index for alignment of columns\n",
    "vc_final_frame = vc_dataframe.reset_index()\n",
    "print(vc_final_frame)"
   ]
  },
  {
   "cell_type": "code",
   "execution_count": null,
   "metadata": {
    "collapsed": true,
    "deletable": true,
    "editable": true
   },
   "outputs": [],
   "source": [
    "#Writing the output into a csv\n",
    "vc_final_frame.to_csv('Q1_Part_Two.csv', sep = '\\t')"
   ]
  }
 ],
 "metadata": {
  "kernelspec": {
   "display_name": "Python 3",
   "language": "python",
   "name": "python3"
  },
  "language_info": {
   "codemirror_mode": {
    "name": "ipython",
    "version": 3
   },
   "file_extension": ".py",
   "mimetype": "text/x-python",
   "name": "python",
   "nbconvert_exporter": "python",
   "pygments_lexer": "ipython3",
   "version": "3.6.0"
  }
 },
 "nbformat": 4,
 "nbformat_minor": 2
}
