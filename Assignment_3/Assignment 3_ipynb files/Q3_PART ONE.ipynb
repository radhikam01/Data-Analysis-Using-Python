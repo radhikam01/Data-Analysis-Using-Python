{
 "cells": [
  {
   "cell_type": "markdown",
   "metadata": {
    "deletable": true,
    "editable": true
   },
   "source": [
    "# Calculate the average score for each team which host the game and win the game"
   ]
  },
  {
   "cell_type": "code",
   "execution_count": 1,
   "metadata": {
    "collapsed": true,
    "deletable": true,
    "editable": true
   },
   "outputs": [],
   "source": [
    "#Importing all required packages\n",
    "import pandas as pd\n",
    "import numpy as np\n",
    "from pandas import DataFrame\n",
    "pd.options.mode.chained_assignment = None #'warn'"
   ]
  },
  {
   "cell_type": "code",
   "execution_count": 2,
   "metadata": {
    "collapsed": true,
    "deletable": true,
    "editable": true
   },
   "outputs": [],
   "source": [
    "#Reading the 'Cricket Matches' file\n",
    "cricket_matches = pd.read_csv(\"cricket_matches.csv\")"
   ]
  },
  {
   "cell_type": "code",
   "execution_count": 3,
   "metadata": {
    "collapsed": true,
    "deletable": true,
    "editable": true
   },
   "outputs": [],
   "source": [
    "#Removing all the other columns which are not related to host, winning and innings columns and our analysis\n",
    "cm_new = cricket_matches.drop(cricket_matches.columns[[0,1,2,3,4,5,7,9,10,11,14,15,16,19,20,21,22,23]], axis = 1)\n",
    "\n",
    "#Creating a new dataframe for the average scores\n",
    "cm_dataframe =  DataFrame(columns = ['Average Score'])"
   ]
  },
  {
   "cell_type": "code",
   "execution_count": 7,
   "metadata": {
    "collapsed": false,
    "deletable": true,
    "editable": true
   },
   "outputs": [
    {
     "name": "stdout",
     "output_type": "stream",
     "text": [
      "              home           winner          innings1  innings1_runs  \\\n",
      "0           Durham           Durham   Nottinghamshire          157.0   \n",
      "1        Hampshire        Hampshire         Hampshire          153.0   \n",
      "3           Surrey           Surrey         Middlesex          155.0   \n",
      "4   Worcestershire   Worcestershire  Northamptonshire          150.0   \n",
      "5  Gloucestershire  Gloucestershire    Worcestershire          122.0   \n",
      "\n",
      "          innings2  innings2_runs  Score  \n",
      "0           Durham          160.0  160.0  \n",
      "1           Sussex          148.0  153.0  \n",
      "3           Surrey          158.0  158.0  \n",
      "4   Worcestershire          151.0  151.0  \n",
      "5  Gloucestershire          126.0  126.0  \n"
     ]
    }
   ],
   "source": [
    "#Comparing the home and winner column to find out if the host team is the winner team\n",
    "cm_new = cm_new[cm_new['home'] == cm_new['winner']]\n",
    "\n",
    "#Checking the new dataframe using head function\n",
    "print(cm_new.head())"
   ]
  },
  {
   "cell_type": "code",
   "execution_count": 8,
   "metadata": {
    "collapsed": false,
    "deletable": true,
    "editable": true
   },
   "outputs": [
    {
     "name": "stdout",
     "output_type": "stream",
     "text": [
      "              home           winner          innings1  innings1_runs  \\\n",
      "0           Durham           Durham   Nottinghamshire          157.0   \n",
      "1        Hampshire        Hampshire         Hampshire          153.0   \n",
      "3           Surrey           Surrey         Middlesex          155.0   \n",
      "4   Worcestershire   Worcestershire  Northamptonshire          150.0   \n",
      "5  Gloucestershire  Gloucestershire    Worcestershire          122.0   \n",
      "\n",
      "          innings2  innings2_runs  Score  \n",
      "0           Durham          160.0  160.0  \n",
      "1           Sussex          148.0  153.0  \n",
      "3           Surrey          158.0  158.0  \n",
      "4   Worcestershire          151.0  151.0  \n",
      "5  Gloucestershire          126.0  126.0  \n"
     ]
    }
   ],
   "source": [
    "#Checking if the host team played in innings1, if it did then put innings1_runs into score column, if not then innings2_runs should go into score column\n",
    "cm_new['Score'] = cm_new['innings1_runs'].where(cm_new['home'] == cm_new['innings1'], cm_new['innings2_runs'])\n",
    "\n",
    "#Checking the new dataframe using head function\n",
    "print(cm_new.head())"
   ]
  },
  {
   "cell_type": "code",
   "execution_count": 9,
   "metadata": {
    "collapsed": false,
    "deletable": true,
    "editable": true
   },
   "outputs": [
    {
     "name": "stdout",
     "output_type": "stream",
     "text": [
      "                   home  Average Score\n",
      "0         New Zealand A          227.0\n",
      "1           Baluchistan          217.0\n",
      "2               India A          214.0\n",
      "3  Northerns (Zimbabwe)          198.5\n",
      "4  Port Qasim Authority          190.0\n"
     ]
    }
   ],
   "source": [
    "#Calculating the mean of the score column based on the host team using groupby\n",
    "cm_dataframe['Average Score'] = cm_new.groupby('home')['Score'].mean()\n",
    "\n",
    "#Sorting the result in descending order so as to show the highest score value at the top\n",
    "cm_dataframe_final = cm_dataframe.sort_values(['Average Score'], ascending = False)\n",
    "\n",
    "#Resetting the index for alignment of columns\n",
    "cm_final_dataframe = cm_dataframe_final.reset_index()\n",
    "\n",
    "#Showing the top five scores using head function\n",
    "print(cm_final_dataframe.head())"
   ]
  },
  {
   "cell_type": "code",
   "execution_count": 21,
   "metadata": {
    "collapsed": true,
    "deletable": true,
    "editable": true
   },
   "outputs": [],
   "source": [
    "#Writing the output into a csv\n",
    "cm_final_dataframe.to_csv('Q3_Part_One.csv', sep = '\\t')"
   ]
  }
 ],
 "metadata": {
  "kernelspec": {
   "display_name": "Python 3",
   "language": "python",
   "name": "python3"
  },
  "language_info": {
   "codemirror_mode": {
    "name": "ipython",
    "version": 3
   },
   "file_extension": ".py",
   "mimetype": "text/x-python",
   "name": "python",
   "nbconvert_exporter": "python",
   "pygments_lexer": "ipython3",
   "version": "3.6.0"
  }
 },
 "nbformat": 4,
 "nbformat_minor": 2
}
