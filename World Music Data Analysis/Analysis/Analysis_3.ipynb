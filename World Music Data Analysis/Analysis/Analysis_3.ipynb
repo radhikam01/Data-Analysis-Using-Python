{
 "cells": [
  {
   "cell_type": "markdown",
   "metadata": {
    "deletable": true,
    "editable": true
   },
   "source": [
    "# Top 10 Albums According to Review Scores"
   ]
  },
  {
   "cell_type": "code",
   "execution_count": 19,
   "metadata": {
    "collapsed": false,
    "deletable": true,
    "editable": true
   },
   "outputs": [
    {
     "data": {
      "text/html": [
       "<script>requirejs.config({paths: { 'plotly': ['https://cdn.plot.ly/plotly-latest.min']},});if(!window.Plotly) {{require(['plotly'],function(plotly) {window.Plotly=plotly;});}}</script>"
      ],
      "text/vnd.plotly.v1+html": [
       "<script>requirejs.config({paths: { 'plotly': ['https://cdn.plot.ly/plotly-latest.min']},});if(!window.Plotly) {{require(['plotly'],function(plotly) {window.Plotly=plotly;});}}</script>"
      ]
     },
     "metadata": {},
     "output_type": "display_data"
    }
   ],
   "source": [
    "from pandas import Series, DataFrame\n",
    "import pandas as pd\n",
    "import numpy as np\n",
    "import datetime\n",
    "import calendar\n",
    "import warnings\n",
    "warnings.filterwarnings(\"ignore\")\n",
    "pd.options.mode.chained_assignment = None #'warn'\n",
    "import plotly.offline as py\n",
    "py.init_notebook_mode(connected=True)\n",
    "import plotly.graph_objs as go\n",
    "import plotly.tools as tls\n",
    "import matplotlib.pyplot as plt\n",
    "import seaborn as sns\n",
    "import pylab as p\n",
    "%matplotlib inline"
   ]
  },
  {
   "cell_type": "code",
   "execution_count": 20,
   "metadata": {
    "collapsed": false,
    "deletable": true,
    "editable": true
   },
   "outputs": [],
   "source": [
    "album_details = pd.read_csv(\"World_Music_Album_Details.csv\", sep = \",\", na_values=[\"N/A\"], encoding = 'latin-1')\n",
    "band_details = pd.read_csv(\"World_Music_Bands_Details.csv\",sep = \",\", na_values=[\"N/A\"], encoding = 'latin-1' )\n",
    "review_details = pd.read_csv(\"World_Music_Reviews_Details.csv\",sep = \",\", na_values=[\"N/A\"], encoding = 'latin-1' )"
   ]
  },
  {
   "cell_type": "code",
   "execution_count": 21,
   "metadata": {
    "collapsed": true,
    "deletable": true,
    "editable": true
   },
   "outputs": [],
   "source": [
    "music_bands_albums_join = pd.merge(\n",
    "    left=band_details, \n",
    "    right=album_details, \n",
    "    left_on=\"ID\", \n",
    "    right_on=\"Band_ID\", \n",
    "    suffixes=[\"_band\", \"_album\"],\n",
    "    how=\"left\"\n",
    ").drop(\"Band_ID\", axis=1)"
   ]
  },
  {
   "cell_type": "code",
   "execution_count": 23,
   "metadata": {
    "collapsed": true,
    "deletable": true,
    "editable": true
   },
   "outputs": [],
   "source": [
    "music_bands_albums_reviews_join = pd.merge(\n",
    "    left=music_bands_albums_join, \n",
    "    right=review_details, \n",
    "    left_on=\"ID_album\", \n",
    "    right_on=\"Album_ID\", \n",
    "    suffixes=[\"\", \"_review\"],\n",
    "    how=\"left\"\n",
    ").drop(\"Album_ID\", axis=1)"
   ]
  },
  {
   "cell_type": "code",
   "execution_count": 29,
   "metadata": {
    "collapsed": false,
    "deletable": true,
    "editable": true
   },
   "outputs": [],
   "source": [
    "music_albums_reviews_count = music_bands_albums_reviews_join.groupby(\"ID_album\")[\"ID\"].count()\n",
    "famous_albums = music_albums_reviews_count[music_albums_reviews_count >= 8].index.values\n",
    "famous_bands_albums_reviews = music_bands_albums_reviews_join[music_bands_albums_reviews_join.ID_album.isin(famous_albums)]"
   ]
  },
  {
   "cell_type": "code",
   "execution_count": 25,
   "metadata": {
    "collapsed": true,
    "deletable": true,
    "editable": true
   },
   "outputs": [],
   "source": [
    "top_albums = famous_bands_albums_reviews.groupby(\"ID_album\")[\"Album_Score\"].sum() / famous_bands_albums_reviews.groupby(\"ID_album\")[\"Album_Score\"].count()\n",
    "top_albums = pd.DataFrame(top_albums.sort_values().tail(10))\n",
    "top_albums.columns = [\"average_score\"] "
   ]
  },
  {
   "cell_type": "code",
   "execution_count": 57,
   "metadata": {
    "collapsed": false,
    "deletable": true,
    "editable": true
   },
   "outputs": [
    {
     "data": {
      "text/html": [
       "<div>\n",
       "<table border=\"1\" class=\"dataframe\">\n",
       "  <thead>\n",
       "    <tr style=\"text-align: right;\">\n",
       "      <th></th>\n",
       "      <th>Band_Name</th>\n",
       "      <th>Album_Name</th>\n",
       "      <th>average_score</th>\n",
       "    </tr>\n",
       "  </thead>\n",
       "  <tbody>\n",
       "    <tr>\n",
       "      <th>5300</th>\n",
       "      <td>Uncork</td>\n",
       "      <td>Anaclasis: A Haunting Gospel of Malice &amp; Hatred</td>\n",
       "      <td>0.967500</td>\n",
       "    </tr>\n",
       "    <tr>\n",
       "      <th>1352</th>\n",
       "      <td>Loathsome Ritual</td>\n",
       "      <td>Realm of Chaos: Slaves to Darkness</td>\n",
       "      <td>0.940526</td>\n",
       "    </tr>\n",
       "    <tr>\n",
       "      <th>7242</th>\n",
       "      <td>Before God</td>\n",
       "      <td>Blod-draum</td>\n",
       "      <td>0.938750</td>\n",
       "    </tr>\n",
       "    <tr>\n",
       "      <th>5852</th>\n",
       "      <td>Warfire</td>\n",
       "      <td>Decimate Christendom</td>\n",
       "      <td>0.933750</td>\n",
       "    </tr>\n",
       "    <tr>\n",
       "      <th>7263</th>\n",
       "      <td>Belkant</td>\n",
       "      <td>Rise to Power</td>\n",
       "      <td>0.926250</td>\n",
       "    </tr>\n",
       "    <tr>\n",
       "      <th>1358</th>\n",
       "      <td>Loathsome Ritual</td>\n",
       "      <td>Those Once Loyal</td>\n",
       "      <td>0.922500</td>\n",
       "    </tr>\n",
       "    <tr>\n",
       "      <th>5766</th>\n",
       "      <td>Vow Dreams</td>\n",
       "      <td>Mondo Medicale</td>\n",
       "      <td>0.916429</td>\n",
       "    </tr>\n",
       "    <tr>\n",
       "      <th>13204</th>\n",
       "      <td>Sirventes</td>\n",
       "      <td>Uterovaginal Insertion of Extirpated Anomalies</td>\n",
       "      <td>0.916250</td>\n",
       "    </tr>\n",
       "    <tr>\n",
       "      <th>5848</th>\n",
       "      <td>Warfire</td>\n",
       "      <td>Upon the Throne of Apocalypse</td>\n",
       "      <td>0.915000</td>\n",
       "    </tr>\n",
       "    <tr>\n",
       "      <th>3133</th>\n",
       "      <td>Raw Level</td>\n",
       "      <td>Slumber of Sullen Eyes</td>\n",
       "      <td>0.915000</td>\n",
       "    </tr>\n",
       "  </tbody>\n",
       "</table>\n",
       "</div>"
      ],
      "text/plain": [
       "              Band_Name                                       Album_Name  \\\n",
       "5300             Uncork  Anaclasis: A Haunting Gospel of Malice & Hatred   \n",
       "1352   Loathsome Ritual               Realm of Chaos: Slaves to Darkness   \n",
       "7242         Before God                                       Blod-draum   \n",
       "5852            Warfire                             Decimate Christendom   \n",
       "7263            Belkant                                    Rise to Power   \n",
       "1358   Loathsome Ritual                                 Those Once Loyal   \n",
       "5766         Vow Dreams                                   Mondo Medicale   \n",
       "13204         Sirventes   Uterovaginal Insertion of Extirpated Anomalies   \n",
       "5848            Warfire                    Upon the Throne of Apocalypse   \n",
       "3133          Raw Level                           Slumber of Sullen Eyes   \n",
       "\n",
       "       average_score  \n",
       "5300        0.967500  \n",
       "1352        0.940526  \n",
       "7242        0.938750  \n",
       "5852        0.933750  \n",
       "7263        0.926250  \n",
       "1358        0.922500  \n",
       "5766        0.916429  \n",
       "13204       0.916250  \n",
       "5848        0.915000  \n",
       "3133        0.915000  "
      ]
     },
     "execution_count": 57,
     "metadata": {},
     "output_type": "execute_result"
    }
   ],
   "source": [
    "top_bands_albums = pd.merge(\n",
    "    left = music_bands_albums_join,\n",
    "    right = top_albums,\n",
    "    left_on=\"ID_album\",\n",
    "    right_index=True\n",
    ")[[\"Band_Name\", \"Album_Name\", \"average_score\"]].sort_values(\"average_score\", ascending = False)\n",
    "top_bands_albums.to_csv('top10_reviewscores.csv')\n",
    "top_bands_albums"
   ]
  },
  {
   "cell_type": "code",
   "execution_count": 55,
   "metadata": {
    "collapsed": false,
    "deletable": true,
    "editable": true
   },
   "outputs": [
    {
     "data": {
      "image/png": "[encoded data removed]",
      "text/plain": [
       "<matplotlib.figure.Figure at 0x20aa08f5198>"
      ]
     },
     "metadata": {},
     "output_type": "display_data"
    }
   ],
   "source": [
    "top_bands_albums[\"band/album\"] = top_bands_albums.Band_Name + \"'s \\\"\" + top_bands_albums.Album_Name + \"\\\"\"\n",
    "top_bands_albums_plot = top_bands_albums[[\"band/album\", \"average_score\"]].set_index(\"band/album\").plot.barh(color=\"yellow\", legend=False, figsize=(12, 12), xlim=[0.85, 1.0], edgecolor = '0.2')\n",
    "top_bands_albums_labels = top_bands_albums_plot.set_xlabel(\"Average Score\", fontsize = '16')\n",
    "top_bands_albums_labels = top_bands_albums_plot.set_ylabel(\"Albums\", fontsize = '16')\n",
    "\n",
    "for y, x in zip(np.arange(0, top_bands_albums.shape[0]), top_bands_albums.average_score):\n",
    "    plot = top_bands_albums_plot.annotate(\"{:.3f}\".format(x), xy=(x-0.008, y-0.1), fontsize=12, color=\"black\")\n",
    "    \n",
    "fig = plt.gcf()\n",
    "fig.set_size_inches(20, 15)"
   ]
  }
 ],
 "metadata": {
  "kernelspec": {
   "display_name": "Python 3",
   "language": "python",
   "name": "python3"
  },
  "language_info": {
   "codemirror_mode": {
    "name": "ipython",
    "version": 3
   },
   "file_extension": ".py",
   "mimetype": "text/x-python",
   "name": "python",
   "nbconvert_exporter": "python",
   "pygments_lexer": "ipython3",
   "version": "3.6.0"
  }
 },
 "nbformat": 4,
 "nbformat_minor": 2
}
