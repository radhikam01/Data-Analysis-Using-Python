{
 "cells": [
  {
   "cell_type": "markdown",
   "metadata": {},
   "source": [
    "# Question 8: Find out how many unusual words people speak in chat (notice: usernames should not be counted)"
   ]
  },
  {
   "cell_type": "code",
   "execution_count": 11,
   "metadata": {
    "collapsed": false
   },
   "outputs": [
    {
     "name": "stdout",
     "output_type": "stream",
     "text": [
      "5274\n"
     ]
    }
   ],
   "source": [
    "#Words from nps_chat excluding the ones containing User\n",
    "import nltk\n",
    "from nltk.corpus import nps_chat #Importing nps_chat corpus\n",
    "file_id = nps_chat.fileids()\n",
    "word_list = []\n",
    "from xml.etree import ElementTree as ET #Importing Element Tree\n",
    "for id in file_id:\n",
    "    chat = nps_chat.raw(id)\n",
    "    my_xml = ET.fromstring(chat)\n",
    "    for child in my_xml.iter('t'):\n",
    "        word_list.append(child.get('word'))\n",
    "npschat_word_set=set()\n",
    "for word in word_list: #Running a for loop for excluding the users\n",
    "    if 'User' not in word:\n",
    "        npschat_word_set.add(word.lower());\n",
    "print(len(npschat_word_set))                        "
   ]
  },
  {
   "cell_type": "code",
   "execution_count": 3,
   "metadata": {
    "collapsed": false
   },
   "outputs": [
    {
     "name": "stdout",
     "output_type": "stream",
     "text": [
      "234377\n"
     ]
    }
   ],
   "source": [
    "# words from WordsList\n",
    "word_id=nltk.corpus.words.fileids()\n",
    "words_list=[]\n",
    "for id in word_id:\n",
    "    words=nltk.corpus.words.words(id)\n",
    "    for word in words:\n",
    "        words_list.append(word.lower())\n",
    "words_set=set(words_list)\n",
    "print(len(words_set))"
   ]
  },
  {
   "cell_type": "code",
   "execution_count": 12,
   "metadata": {
    "collapsed": false
   },
   "outputs": [
    {
     "name": "stdout",
     "output_type": "stream",
     "text": [
      "2698\n"
     ]
    }
   ],
   "source": [
    "# words not present in words-list\n",
    "final_words=set()\n",
    "for nps_chat in npschat_word_set:\n",
    "    if nps_chat not in words_set:\n",
    "        final_words.add(nps_chat)\n",
    "print(len(final_word_set))"
   ]
  }
 ],
 "metadata": {
  "anaconda-cloud": {},
  "kernelspec": {
   "display_name": "Python [conda root]",
   "language": "python",
   "name": "conda-root-py"
  },
  "language_info": {
   "codemirror_mode": {
    "name": "ipython",
    "version": 3
   },
   "file_extension": ".py",
   "mimetype": "text/x-python",
   "name": "python",
   "nbconvert_exporter": "python",
   "pygments_lexer": "ipython3",
   "version": "3.5.2"
  }
 },
 "nbformat": 4,
 "nbformat_minor": 1
}
