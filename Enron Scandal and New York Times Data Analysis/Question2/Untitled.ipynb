{
 "cells": [
  {
   "cell_type": "code",
   "execution_count": 19,
   "metadata": {
    "collapsed": false
   },
   "outputs": [],
   "source": [
    "import urllib.request\n",
    "import urllib.error\n",
    "import json\n",
    "import datetime\n",
    "import time\n",
    "import sys, os\n",
    "import logging\n",
    "import glob\n",
    "from urllib.error import HTTPError\n",
    "import configparser\n",
    "from configparser import SafeConfigParser"
   ]
  },
  {
   "cell_type": "code",
   "execution_count": 20,
   "metadata": {
    "collapsed": true
   },
   "outputs": [],
   "source": [
    "def convert(input):\n",
    "    if isinstance(input, dict):\n",
    "        return {convert(key): convert(value) for key, value in input.items()}\n",
    "    elif isinstance(input, list):\n",
    "        return [convert(element) for element in input]\n",
    "    else:\n",
    "        return input"
   ]
  },
  {
   "cell_type": "code",
   "execution_count": 37,
   "metadata": {
    "collapsed": true
   },
   "outputs": [],
   "source": [
    "def getJsonFileName(media, country, term, json_file_path):\n",
    "    json_file_name = \".\".join([country,term,'json'])\n",
    "    json_file_name = \"\".join([json_file_path,'\\\\', json_file_name])\n",
    "    return json_file_name"
   ]
  },
  {
   "cell_type": "code",
   "execution_count": 42,
   "metadata": {
    "collapsed": false
   },
   "outputs": [],
   "source": [
    "def getArticles(country, media, term, json_file_path):\n",
    "    try:\n",
    "        print(\"entering\")\n",
    "        request_string = \"https://itunes.apple.com/search?country=\"+country+\"&media=\" + media + \"&term=\" + term +\"\"\n",
    "        print(request_string)\n",
    "        response = urllib.request.urlopen(request_string)\n",
    "        content = response.read().decode('utf-8')\n",
    "        #print(content)\n",
    "        if content:\n",
    "            articles = convert(json.loads(content))\n",
    "            #print(articles)\n",
    "            # if there are articles here\n",
    "            if len(articles[\"results\"]) >= 1:\n",
    "                #docs = articles[\"response\"][\"docs\"]\n",
    "                #print(\"entering\")\n",
    "                #print(docs)\n",
    "                json_file_name = getJsonFileName(country, term, json_file_path)\n",
    "                json_file = open(json_file_name, 'w')\n",
    "                json_file.write(content)\n",
    "                json_file.close()\n",
    "            # if no more articles, go to next date\n",
    "            else:\n",
    "                return\n",
    "        time.sleep(3) # wait so we don't overwhelm the API\n",
    "    except HTTPError as e:\n",
    "        logging.error(\"HTTPError on page %s on %s (err no. %s: %s) Here's the URL of the call: %s\", country, term, e.code, e.reason, request_string)\n",
    "        if e.code == 403:\n",
    "            print(\"Script hit a snag and got an HTTPError 403. Check your log file for more info.\")\n",
    "            return\n",
    "        if e.code == 429:\n",
    "            print (\"Waiting. You've probably reached an API limit.\")\n",
    "            time.sleep(30) # wait 30 seconds and try again\n",
    "    except: \n",
    "        logging.error(\"Error on %s page %s: %s\", term, sys.exc_info()[0])"
   ]
  },
  {
   "cell_type": "code",
   "execution_count": 43,
   "metadata": {
    "collapsed": false
   },
   "outputs": [
    {
     "name": "stderr",
     "output_type": "stream",
     "text": [
      "C:\\Users\\Shiv\\Anaconda3\\lib\\site-packages\\ipykernel\\__main__.py:3: DeprecationWarning: The SafeConfigParser class has been renamed to ConfigParser in Python 3.2. This alias will be removed in future versions. Use ConfigParser directly instead.\n",
      "  app.launch_new_instance()\n",
      "--- Logging error ---\n",
      "Traceback (most recent call last):\n",
      "  File \"<ipython-input-42-f789be715015>\", line 17, in getArticles\n",
      "    json_file_name = getJsonFileName(country, term, json_file_path)\n",
      "TypeError: getJsonFileName() missing 1 required positional argument: 'json_file_path'\n",
      "\n",
      "During handling of the above exception, another exception occurred:\n",
      "\n",
      "Traceback (most recent call last):\n",
      "  File \"C:\\Users\\Shiv\\Anaconda3\\lib\\logging\\__init__.py\", line 987, in emit\n",
      "    msg = self.format(record)\n",
      "  File \"C:\\Users\\Shiv\\Anaconda3\\lib\\logging\\__init__.py\", line 833, in format\n",
      "    return fmt.format(record)\n",
      "  File \"C:\\Users\\Shiv\\Anaconda3\\lib\\logging\\__init__.py\", line 570, in format\n",
      "    record.message = record.getMessage()\n",
      "  File \"C:\\Users\\Shiv\\Anaconda3\\lib\\logging\\__init__.py\", line 333, in getMessage\n",
      "    msg = msg % self.args\n",
      "TypeError: not enough arguments for format string\n",
      "Call stack:\n"
     ]
    },
    {
     "name": "stdout",
     "output_type": "stream",
     "text": [
      "us\n",
      "music\n",
      "coldplay\n",
      "entering\n",
      "https://itunes.apple.com/search?country=us&media=music&term=coldplay\n"
     ]
    },
    {
     "name": "stderr",
     "output_type": "stream",
     "text": [
      "  File \"C:\\Users\\Shiv\\Anaconda3\\lib\\runpy.py\", line 193, in _run_module_as_main\n",
      "    \"__main__\", mod_spec)\n",
      "  File \"C:\\Users\\Shiv\\Anaconda3\\lib\\runpy.py\", line 85, in _run_code\n",
      "    exec(code, run_globals)\n",
      "  File \"C:\\Users\\Shiv\\Anaconda3\\lib\\site-packages\\ipykernel\\__main__.py\", line 3, in <module>\n",
      "    app.launch_new_instance()\n",
      "  File \"C:\\Users\\Shiv\\Anaconda3\\lib\\site-packages\\traitlets\\config\\application.py\", line 658, in launch_instance\n",
      "    app.start()\n",
      "  File \"C:\\Users\\Shiv\\Anaconda3\\lib\\site-packages\\ipykernel\\kernelapp.py\", line 474, in start\n",
      "    ioloop.IOLoop.instance().start()\n",
      "  File \"C:\\Users\\Shiv\\Anaconda3\\lib\\site-packages\\zmq\\eventloop\\ioloop.py\", line 177, in start\n",
      "    super(ZMQIOLoop, self).start()\n",
      "  File \"C:\\Users\\Shiv\\Anaconda3\\lib\\site-packages\\tornado\\ioloop.py\", line 887, in start\n",
      "    handler_func(fd_obj, events)\n",
      "  File \"C:\\Users\\Shiv\\Anaconda3\\lib\\site-packages\\tornado\\stack_context.py\", line 275, in null_wrapper\n",
      "    return fn(*args, **kwargs)\n",
      "  File \"C:\\Users\\Shiv\\Anaconda3\\lib\\site-packages\\zmq\\eventloop\\zmqstream.py\", line 440, in _handle_events\n",
      "    self._handle_recv()\n",
      "  File \"C:\\Users\\Shiv\\Anaconda3\\lib\\site-packages\\zmq\\eventloop\\zmqstream.py\", line 472, in _handle_recv\n",
      "    self._run_callback(callback, msg)\n",
      "  File \"C:\\Users\\Shiv\\Anaconda3\\lib\\site-packages\\zmq\\eventloop\\zmqstream.py\", line 414, in _run_callback\n",
      "    callback(*args, **kwargs)\n",
      "  File \"C:\\Users\\Shiv\\Anaconda3\\lib\\site-packages\\tornado\\stack_context.py\", line 275, in null_wrapper\n",
      "    return fn(*args, **kwargs)\n",
      "  File \"C:\\Users\\Shiv\\Anaconda3\\lib\\site-packages\\ipykernel\\kernelbase.py\", line 276, in dispatcher\n",
      "    return self.dispatch_shell(stream, msg)\n",
      "  File \"C:\\Users\\Shiv\\Anaconda3\\lib\\site-packages\\ipykernel\\kernelbase.py\", line 228, in dispatch_shell\n",
      "    handler(stream, idents, msg)\n",
      "  File \"C:\\Users\\Shiv\\Anaconda3\\lib\\site-packages\\ipykernel\\kernelbase.py\", line 390, in execute_request\n",
      "    user_expressions, allow_stdin)\n",
      "  File \"C:\\Users\\Shiv\\Anaconda3\\lib\\site-packages\\ipykernel\\ipkernel.py\", line 196, in do_execute\n",
      "    res = shell.run_cell(code, store_history=store_history, silent=silent)\n",
      "  File \"C:\\Users\\Shiv\\Anaconda3\\lib\\site-packages\\ipykernel\\zmqshell.py\", line 501, in run_cell\n",
      "    return super(ZMQInteractiveShell, self).run_cell(*args, **kwargs)\n",
      "  File \"C:\\Users\\Shiv\\Anaconda3\\lib\\site-packages\\IPython\\core\\interactiveshell.py\", line 2717, in run_cell\n",
      "    interactivity=interactivity, compiler=compiler, result=result)\n",
      "  File \"C:\\Users\\Shiv\\Anaconda3\\lib\\site-packages\\IPython\\core\\interactiveshell.py\", line 2821, in run_ast_nodes\n",
      "    if self.run_code(code, result):\n",
      "  File \"C:\\Users\\Shiv\\Anaconda3\\lib\\site-packages\\IPython\\core\\interactiveshell.py\", line 2881, in run_code\n",
      "    exec(code_obj, self.user_global_ns, self.user_ns)\n",
      "  File \"<ipython-input-43-c22742f45621>\", line 39, in <module>\n",
      "    main()\n",
      "  File \"<ipython-input-43-c22742f45621>\", line 31, in main\n",
      "    getArticles(country, media, term, json_file_path)\n",
      "  File \"<ipython-input-42-f789be715015>\", line 34, in getArticles\n",
      "    logging.error(\"Error on %s page %s: %s\", term, sys.exc_info()[0])\n",
      "Message: 'Error on %s page %s: %s'\n",
      "Arguments: ('coldplay', <class 'TypeError'>)\n"
     ]
    }
   ],
   "source": [
    "def main():\n",
    "    \n",
    "    config = SafeConfigParser()\n",
    "    script_dir = os.getcwd()\n",
    "    config_file = os.path.join(script_dir, 'config\\config.cfg')\n",
    "    config.read(config_file)\n",
    "    \n",
    "    json_file_path = config.get('files','json_folder')\n",
    "    #tsv_file_name = config.get('files','tsv_file')\n",
    "    log_file = config.get('files','logfile')\n",
    "    \n",
    "    #api_key = config.get('nytimes','api_key')    \n",
    "    #start = datetime.date( year = int(config.get('nytimes','start_year')), month = int(config.get('nytimes','start_month')), day = int(config.get('nytimes','start_day')) )\n",
    "    #end = datetime.date( year = int(config.get('nytimes','end_year')), month = int(config.get('nytimes','end_month')), day = int(config.get('nytimes','end_day')) )\n",
    "    country = config.get('itunes','country')\n",
    "    print(country)\n",
    "    media = config.get('itunes','media')\n",
    "    print(media)\n",
    "    term = config.get('itunes','term')\n",
    "    print(term)\n",
    "        \n",
    "    logging.basicConfig(filename=log_file, level=logging.INFO)\n",
    "    \n",
    "    logging.info(\"Getting started.\") \n",
    "#     try:\n",
    "#         print(\"main\")\n",
    "        # LOOP THROUGH THE SPECIFIED DATES\n",
    "        #for date in daterange( start, end ):\n",
    "            #date = date.strftime(\"%Y%m%d\")\n",
    "            #logging.info(\"Working on %s.\" % date)\n",
    "    getArticles(country, media, term, json_file_path)\n",
    "            #parseArticles(date, tsv_file_name, json_file_path)\n",
    "#     except:\n",
    "#         logging.error(\"Unexpected error: %s\", str(sys.exc_info()[0]))\n",
    "#     finally:\n",
    "#         logging.info(\"Finished.\")\n",
    "\n",
    "if __name__ == '__main__' :\n",
    "    main()"
   ]
  }
 ],
 "metadata": {
  "kernelspec": {
   "display_name": "Python 3",
   "language": "python",
   "name": "python3"
  },
  "language_info": {
   "codemirror_mode": {
    "name": "ipython",
    "version": 3
   },
   "file_extension": ".py",
   "mimetype": "text/x-python",
   "name": "python",
   "nbconvert_exporter": "python",
   "pygments_lexer": "ipython3",
   "version": "3.6.0"
  }
 },
 "nbformat": 4,
 "nbformat_minor": 2
}
