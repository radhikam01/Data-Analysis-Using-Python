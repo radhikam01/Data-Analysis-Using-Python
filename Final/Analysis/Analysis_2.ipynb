{
 "cells": [
  {
   "cell_type": "markdown",
   "metadata": {
    "deletable": true,
    "editable": true
   },
   "source": [
    "# Most Prolific Top 10 Bands By The Number of Albums Released "
   ]
  },
  {
   "cell_type": "code",
   "execution_count": 15,
   "metadata": {
    "collapsed": false,
    "deletable": true,
    "editable": true
   },
   "outputs": [
    {
     "data": {
      "text/html": [
       "<script>requirejs.config({paths: { 'plotly': ['https://cdn.plot.ly/plotly-latest.min']},});if(!window.Plotly) {{require(['plotly'],function(plotly) {window.Plotly=plotly;});}}</script>"
      ],
      "text/vnd.plotly.v1+html": [
       "<script>requirejs.config({paths: { 'plotly': ['https://cdn.plot.ly/plotly-latest.min']},});if(!window.Plotly) {{require(['plotly'],function(plotly) {window.Plotly=plotly;});}}</script>"
      ]
     },
     "metadata": {},
     "output_type": "display_data"
    }
   ],
   "source": [
    "from pandas import Series, DataFrame\n",
    "import pandas as pd\n",
    "import numpy as np\n",
    "import datetime\n",
    "import calendar\n",
    "import warnings\n",
    "warnings.filterwarnings(\"ignore\")\n",
    "pd.options.mode.chained_assignment = None #'warn'\n",
    "import plotly.offline as py\n",
    "py.init_notebook_mode(connected=True)\n",
    "import plotly.graph_objs as go\n",
    "import plotly.tools as tls\n",
    "import matplotlib.pyplot as plt\n",
    "import seaborn as sns\n",
    "import pylab as p\n",
    "np.random.seed(sum(map(ord, \"aesthetics\")))\n",
    "import plotly.plotly as py\n",
    "import plotly.graph_objs as go\n",
    "%matplotlib inline"
   ]
  },
  {
   "cell_type": "code",
   "execution_count": 16,
   "metadata": {
    "collapsed": true,
    "deletable": true,
    "editable": true
   },
   "outputs": [],
   "source": [
    "album_details = pd.read_csv(\"World_Music_Album_Details.csv\", sep = \",\", na_values=[\"N/A\"], encoding = 'latin-1')\n",
    "band_details = pd.read_csv(\"World_Music_Bands_Details.csv\",sep = \",\", na_values=[\"N/A\"], encoding = 'latin-1' )\n",
    "review_details = pd.read_csv(\"World_Music_Reviews_Details.csv\",sep = \",\", na_values=[\"N/A\"], encoding = 'latin-1' )"
   ]
  },
  {
   "cell_type": "code",
   "execution_count": 17,
   "metadata": {
    "collapsed": true,
    "deletable": true,
    "editable": true
   },
   "outputs": [],
   "source": [
    "music_bands_albums_join = pd.merge(\n",
    "    left=band_details, \n",
    "    right=album_details, \n",
    "    left_on=\"ID\", \n",
    "    right_on=\"Band_ID\", \n",
    "    suffixes=[\"_band\", \"_album\"],\n",
    "    how=\"left\"\n",
    ").drop(\"Band_ID\", axis=1)"
   ]
  },
  {
   "cell_type": "code",
   "execution_count": 50,
   "metadata": {
    "collapsed": false,
    "deletable": true,
    "editable": true
   },
   "outputs": [
    {
     "data": {
      "text/html": [
       "<div>\n",
       "<table border=\"1\" class=\"dataframe\">\n",
       "  <thead>\n",
       "    <tr style=\"text-align: right;\">\n",
       "      <th></th>\n",
       "      <th>ID_band</th>\n",
       "      <th>bands_count</th>\n",
       "    </tr>\n",
       "  </thead>\n",
       "  <tbody>\n",
       "    <tr>\n",
       "      <th>10</th>\n",
       "      <td>6052</td>\n",
       "      <td>23</td>\n",
       "    </tr>\n",
       "    <tr>\n",
       "      <th>9</th>\n",
       "      <td>1582</td>\n",
       "      <td>18</td>\n",
       "    </tr>\n",
       "    <tr>\n",
       "      <th>8</th>\n",
       "      <td>1367</td>\n",
       "      <td>13</td>\n",
       "    </tr>\n",
       "    <tr>\n",
       "      <th>7</th>\n",
       "      <td>9130</td>\n",
       "      <td>12</td>\n",
       "    </tr>\n",
       "    <tr>\n",
       "      <th>6</th>\n",
       "      <td>8177</td>\n",
       "      <td>12</td>\n",
       "    </tr>\n",
       "    <tr>\n",
       "      <th>5</th>\n",
       "      <td>9320</td>\n",
       "      <td>12</td>\n",
       "    </tr>\n",
       "    <tr>\n",
       "      <th>4</th>\n",
       "      <td>5673</td>\n",
       "      <td>12</td>\n",
       "    </tr>\n",
       "    <tr>\n",
       "      <th>3</th>\n",
       "      <td>9624</td>\n",
       "      <td>11</td>\n",
       "    </tr>\n",
       "    <tr>\n",
       "      <th>2</th>\n",
       "      <td>4227</td>\n",
       "      <td>11</td>\n",
       "    </tr>\n",
       "    <tr>\n",
       "      <th>1</th>\n",
       "      <td>11217</td>\n",
       "      <td>11</td>\n",
       "    </tr>\n",
       "    <tr>\n",
       "      <th>0</th>\n",
       "      <td>18</td>\n",
       "      <td>11</td>\n",
       "    </tr>\n",
       "  </tbody>\n",
       "</table>\n",
       "</div>"
      ],
      "text/plain": [
       "    ID_band  bands_count\n",
       "10     6052           23\n",
       "9      1582           18\n",
       "8      1367           13\n",
       "7      9130           12\n",
       "6      8177           12\n",
       "5      9320           12\n",
       "4      5673           12\n",
       "3      9624           11\n",
       "2      4227           11\n",
       "1     11217           11\n",
       "0        18           11"
      ]
     },
     "execution_count": 50,
     "metadata": {},
     "output_type": "execute_result"
    }
   ],
   "source": [
    "music_bands_albums_join_count = pd.DataFrame(music_bands_albums_join.groupby(\"ID_band\")[\"ID_album\"].count().sort_values().tail(11))\n",
    "music_bands_albums_join_count.columns = [\"bands_count\"] \n",
    "bands_albums_indexed = music_bands_albums_join_count.reset_index()\n",
    "bands_albums_indexed.sort(ascending =False)"
   ]
  },
  {
   "cell_type": "code",
   "execution_count": 60,
   "metadata": {
    "collapsed": false,
    "deletable": true,
    "editable": true
   },
   "outputs": [
    {
     "data": {
      "text/html": [
       "<div>\n",
       "<table border=\"1\" class=\"dataframe\">\n",
       "  <thead>\n",
       "    <tr style=\"text-align: right;\">\n",
       "      <th></th>\n",
       "      <th>Band_Name</th>\n",
       "      <th>bands_count</th>\n",
       "    </tr>\n",
       "  </thead>\n",
       "  <tbody>\n",
       "    <tr>\n",
       "      <th>9</th>\n",
       "      <td>Led Zeppelin</td>\n",
       "      <td>23</td>\n",
       "    </tr>\n",
       "    <tr>\n",
       "      <th>8</th>\n",
       "      <td>Megadeth</td>\n",
       "      <td>18</td>\n",
       "    </tr>\n",
       "    <tr>\n",
       "      <th>7</th>\n",
       "      <td>Gojira</td>\n",
       "      <td>13</td>\n",
       "    </tr>\n",
       "    <tr>\n",
       "      <th>6</th>\n",
       "      <td>Porcupine Tree</td>\n",
       "      <td>12</td>\n",
       "    </tr>\n",
       "    <tr>\n",
       "      <th>5</th>\n",
       "      <td>Pink Floyd</td>\n",
       "      <td>12</td>\n",
       "    </tr>\n",
       "    <tr>\n",
       "      <th>4</th>\n",
       "      <td>U2</td>\n",
       "      <td>12</td>\n",
       "    </tr>\n",
       "    <tr>\n",
       "      <th>3</th>\n",
       "      <td>The Beatles</td>\n",
       "      <td>12</td>\n",
       "    </tr>\n",
       "    <tr>\n",
       "      <th>2</th>\n",
       "      <td>Eagles</td>\n",
       "      <td>11</td>\n",
       "    </tr>\n",
       "    <tr>\n",
       "      <th>1</th>\n",
       "      <td>Coldplay</td>\n",
       "      <td>11</td>\n",
       "    </tr>\n",
       "    <tr>\n",
       "      <th>0</th>\n",
       "      <td>Aerosmith</td>\n",
       "      <td>11</td>\n",
       "    </tr>\n",
       "  </tbody>\n",
       "</table>\n",
       "</div>"
      ],
      "text/plain": [
       "        Band_Name  bands_count\n",
       "9    Led Zeppelin           23\n",
       "8        Megadeth           18\n",
       "7          Gojira           13\n",
       "6  Porcupine Tree           12\n",
       "5      Pink Floyd           12\n",
       "4              U2           12\n",
       "3     The Beatles           12\n",
       "2          Eagles           11\n",
       "1        Coldplay           11\n",
       "0       Aerosmith           11"
      ]
     },
     "execution_count": 60,
     "metadata": {},
     "output_type": "execute_result"
    }
   ],
   "source": [
    "bands_top10 = pd.merge(\n",
    "    left=band_details,\n",
    "    right=bands_albums_indexed,\n",
    "    left_on=\"ID\",\n",
    "    right_index=True\n",
    ")[[\"Band_Name\", \"bands_count\"]].sort_values(\"bands_count\").set_index(\"Band_Name\")\n",
    "bands_top10_indexed = bands_top10.reset_index()\n",
    "band_top10_sort = bands_top10_indexed.sort(ascending = False)\n",
    "band_top10_sort.to_csv('band_top10.csv')\n",
    "band_top10_sort"
   ]
  },
  {
   "cell_type": "code",
   "execution_count": 40,
   "metadata": {
    "collapsed": false,
    "deletable": true,
    "editable": true
   },
   "outputs": [
    {
     "data": {
      "text/plain": [
       "[<matplotlib.text.Text at 0x1a2d1d56630>,\n",
       " <matplotlib.text.Text at 0x1a2d1b5eba8>,\n",
       " <matplotlib.text.Text at 0x1a2d1d7a518>]"
      ]
     },
     "execution_count": 40,
     "metadata": {},
     "output_type": "execute_result"
    },
    {
     "data": {
      "image/png": "[encoded data removed]",
      "text/plain": [
       "<matplotlib.figure.Figure at 0x1a2d1be8f60>"
      ]
     },
     "metadata": {},
     "output_type": "display_data"
    }
   ],
   "source": [
    "barplot = sns.barplot(x = bands_top10_indexed[\"Band_Name\"],y = bands_top10_indexed[\"albums_count\"], data = bands_top10_indexed, palette=\"Greens\", edgecolor=\".2\")\n",
    "fig = plt.gcf()\n",
    "fig.set_size_inches(20, 10.5)\n",
    "barplot.set(xlabel = \"Band Name\", ylabel = \"Count\", title = \"Most Prolific Top 10 Bands\")"
   ]
  },
  {
   "cell_type": "markdown",
   "metadata": {
    "deletable": true,
    "editable": true
   },
   "source": [
    "# Most Prolific Top 10 Albums By The Number of Reviews Recieved"
   ]
  },
  {
   "cell_type": "code",
   "execution_count": 21,
   "metadata": {
    "collapsed": true,
    "deletable": true,
    "editable": true
   },
   "outputs": [],
   "source": [
    "music_bands_albums_reviews_join = pd.merge(\n",
    "    left=music_bands_albums_join, \n",
    "    right=review_details, \n",
    "    left_on=\"ID_album\", \n",
    "    right_on=\"Album_ID\", \n",
    "    suffixes=[\"\", \"_review\"],\n",
    "    how=\"left\"\n",
    ").drop(\"Album_ID\", axis=1)"
   ]
  },
  {
   "cell_type": "code",
   "execution_count": 55,
   "metadata": {
    "collapsed": false,
    "deletable": true,
    "editable": true
   },
   "outputs": [],
   "source": [
    "music_albums_reviews_count = pd.DataFrame(music_bands_albums_reviews_join.groupby(\"ID_album\")[\"ID\"].count().sort_values().tail(10))\n",
    "music_albums_reviews_count.columns = [\"reviews_count\"] "
   ]
  },
  {
   "cell_type": "code",
   "execution_count": 63,
   "metadata": {
    "collapsed": false,
    "deletable": true,
    "editable": true
   },
   "outputs": [
    {
     "data": {
      "text/html": [
       "<div>\n",
       "<table border=\"1\" class=\"dataframe\">\n",
       "  <thead>\n",
       "    <tr style=\"text-align: right;\">\n",
       "      <th></th>\n",
       "      <th>Band_Name</th>\n",
       "      <th>Album_Name</th>\n",
       "      <th>reviews_count</th>\n",
       "      <th>band/album</th>\n",
       "    </tr>\n",
       "  </thead>\n",
       "  <tbody>\n",
       "    <tr>\n",
       "      <th>12111</th>\n",
       "      <td>PandÃ¤monium</td>\n",
       "      <td>With Oden on Our Side</td>\n",
       "      <td>26</td>\n",
       "      <td>PandÃ¤monium's \"With Oden on Our Side\"</td>\n",
       "    </tr>\n",
       "    <tr>\n",
       "      <th>7290</th>\n",
       "      <td>Berserker Barage</td>\n",
       "      <td>Illud Divinum Insanus</td>\n",
       "      <td>27</td>\n",
       "      <td>Berserker Barage's \"Illud Divinum Insanus\"</td>\n",
       "    </tr>\n",
       "    <tr>\n",
       "      <th>7282</th>\n",
       "      <td>Berserker Barage</td>\n",
       "      <td>Altars of Madness</td>\n",
       "      <td>35</td>\n",
       "      <td>Berserker Barage's \"Altars of Madness\"</td>\n",
       "    </tr>\n",
       "    <tr>\n",
       "      <th>7017</th>\n",
       "      <td>Ashes to Dust</td>\n",
       "      <td>From Beyond</td>\n",
       "      <td>28</td>\n",
       "      <td>Ashes to Dust's \"From Beyond\"</td>\n",
       "    </tr>\n",
       "    <tr>\n",
       "      <th>6880</th>\n",
       "      <td>Apostate</td>\n",
       "      <td>The Ten Commandments</td>\n",
       "      <td>28</td>\n",
       "      <td>Apostate's \"The Ten Commandments\"</td>\n",
       "    </tr>\n",
       "    <tr>\n",
       "      <th>5727</th>\n",
       "      <td>Vomitando Bilis</td>\n",
       "      <td>Close to a World Below</td>\n",
       "      <td>32</td>\n",
       "      <td>Vomitando Bilis's \"Close to a World Below\"</td>\n",
       "    </tr>\n",
       "    <tr>\n",
       "      <th>3080</th>\n",
       "      <td>Qrixkuor</td>\n",
       "      <td>To Hell with God</td>\n",
       "      <td>30</td>\n",
       "      <td>Qrixkuor's \"To Hell with God\"</td>\n",
       "    </tr>\n",
       "    <tr>\n",
       "      <th>3078</th>\n",
       "      <td>Qrixkuor</td>\n",
       "      <td>The Stench of Redemption</td>\n",
       "      <td>38</td>\n",
       "      <td>Qrixkuor's \"The Stench of Redemption\"</td>\n",
       "    </tr>\n",
       "    <tr>\n",
       "      <th>3077</th>\n",
       "      <td>Qrixkuor</td>\n",
       "      <td>Scars of the Crucifix</td>\n",
       "      <td>30</td>\n",
       "      <td>Qrixkuor's \"Scars of the Crucifix\"</td>\n",
       "    </tr>\n",
       "    <tr>\n",
       "      <th>3072</th>\n",
       "      <td>Qrixkuor</td>\n",
       "      <td>Legion</td>\n",
       "      <td>46</td>\n",
       "      <td>Qrixkuor's \"Legion\"</td>\n",
       "    </tr>\n",
       "  </tbody>\n",
       "</table>\n",
       "</div>"
      ],
      "text/plain": [
       "              Band_Name                Album_Name  reviews_count  \\\n",
       "12111      PandÃ¤monium     With Oden on Our Side             26   \n",
       "7290   Berserker Barage     Illud Divinum Insanus             27   \n",
       "7282   Berserker Barage         Altars of Madness             35   \n",
       "7017      Ashes to Dust               From Beyond             28   \n",
       "6880           Apostate      The Ten Commandments             28   \n",
       "5727    Vomitando Bilis    Close to a World Below             32   \n",
       "3080           Qrixkuor          To Hell with God             30   \n",
       "3078           Qrixkuor  The Stench of Redemption             38   \n",
       "3077           Qrixkuor     Scars of the Crucifix             30   \n",
       "3072           Qrixkuor                    Legion             46   \n",
       "\n",
       "                                       band/album  \n",
       "12111      PandÃ¤monium's \"With Oden on Our Side\"  \n",
       "7290   Berserker Barage's \"Illud Divinum Insanus\"  \n",
       "7282       Berserker Barage's \"Altars of Madness\"  \n",
       "7017                Ashes to Dust's \"From Beyond\"  \n",
       "6880            Apostate's \"The Ten Commandments\"  \n",
       "5727   Vomitando Bilis's \"Close to a World Below\"  \n",
       "3080                Qrixkuor's \"To Hell with God\"  \n",
       "3078        Qrixkuor's \"The Stench of Redemption\"  \n",
       "3077           Qrixkuor's \"Scars of the Crucifix\"  \n",
       "3072                          Qrixkuor's \"Legion\"  "
      ]
     },
     "execution_count": 63,
     "metadata": {},
     "output_type": "execute_result"
    }
   ],
   "source": [
    "albums_reviews_top10 = pd.merge(\n",
    "    left=music_bands_albums_join,\n",
    "    right=music_albums_reviews_count,\n",
    "    left_on=\"ID_album\",\n",
    "    right_index=True\n",
    ")[[\"Band_Name\", \"Album_Name\", \"reviews_count\"]].sort_values(\"reviews_count\")\n",
    "\n",
    "albums_reviews_top10[\"band/album\"] = albums_reviews_top10.Band_Name + \"'s \\\"\" + albums_reviews_top10.Album_Name + \"\\\"\"\n",
    "\n",
    "albums_top10_sort = albums_reviews_top10.sort(ascending = False)\n",
    "albums_top10_sort.to_csv('albums_top10.csv')\n",
    "albums_top10_sort"
   ]
  },
  {
   "cell_type": "code",
   "execution_count": 41,
   "metadata": {
    "collapsed": false,
    "deletable": true,
    "editable": true
   },
   "outputs": [
    {
     "data": {
      "text/plain": [
       "[<matplotlib.text.Text at 0x1a2d1e470f0>,\n",
       " <matplotlib.text.Text at 0x1a2d1d1b668>,\n",
       " <matplotlib.text.Text at 0x1a2d1e6b320>]"
      ]
     },
     "execution_count": 41,
     "metadata": {},
     "output_type": "execute_result"
    },
    {
     "data": {
      "image/png": "[encoded data removed]",
      "text/plain": [
       "<matplotlib.figure.Figure at 0x1a2d1d25518>"
      ]
     },
     "metadata": {},
     "output_type": "display_data"
    }
   ],
   "source": [
    "barplot = sns.barplot(x = reviews_more_reviews_top20[\"reviews_count\"],y = reviews_more_reviews_top20[\"band/album\"], data = albums_reviews_top10, palette=\"Blues\", edgecolor=\".2\")\n",
    "fig = plt.gcf()\n",
    "fig.set_size_inches(20, 15)\n",
    "barplot.set(xlabel = \"Count\", ylabel = \"Album Name\", title = \"Most Prolific Top 10 Albums\")"
   ]
  }
 ],
 "metadata": {
  "kernelspec": {
   "display_name": "Python 3",
   "language": "python",
   "name": "python3"
  },
  "language_info": {
   "codemirror_mode": {
    "name": "ipython",
    "version": 3
   },
   "file_extension": ".py",
   "mimetype": "text/x-python",
   "name": "python",
   "nbconvert_exporter": "python",
   "pygments_lexer": "ipython3",
   "version": "3.6.0"
  }
 },
 "nbformat": 4,
 "nbformat_minor": 2
}
