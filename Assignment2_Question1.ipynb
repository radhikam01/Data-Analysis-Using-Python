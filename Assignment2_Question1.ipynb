{
 "cells": [
  {
   "cell_type": "markdown",
   "metadata": {},
   "source": [
    "# Assignment 2 - Question 1\n",
    "\n",
    "Pick any file (or files) in NLTK package\n",
    "Prove if Zipf’s Law works in Natural Language or not\n",
    "\n",
    "REQUIREMNTS:\n",
    "Use ’glob’ to open and read file\n",
    "If read multiple files use LOOP to achieve\n",
    "Create at least one function and one lambda function\n",
    "Save your data as an CSV file contains (Word, Rank, Frequency) with TITLE and Sort it by RANK\n",
    "Open your CSV file, generate a log-log figure according to the data you saved\n",
    "Write a conclusion at the end of your code base on your figure"
   ]
  },
  {
   "cell_type": "code",
   "execution_count": 1,
   "metadata": {
    "collapsed": false
   },
   "outputs": [
    {
     "name": "stdout",
     "output_type": "stream",
     "text": [
      "['austen-emma.txt', 'austen-persuasion.txt', 'austen-sense.txt', 'bible-kjv.txt', 'blake-poems.txt', 'bryant-stories.txt', 'burgess-busterbrown.txt', 'carroll-alice.txt', 'chesterton-ball.txt', 'chesterton-brown.txt', 'chesterton-thursday.txt', 'edgeworth-parents.txt', 'melville-moby_dick.txt', 'milton-paradise.txt', 'shakespeare-caesar.txt', 'shakespeare-hamlet.txt', 'shakespeare-macbeth.txt', 'whitman-leaves.txt']\n"
     ]
    }
   ],
   "source": [
    "#Importing all the required packages\n",
    "import nltk\n",
    "from nltk.corpus import gutenberg\n",
    "import glob\n",
    "\n",
    "#Printing all the files from Gutenberg corpus\n",
    "print(gutenberg.fileids())"
   ]
  },
  {
   "cell_type": "code",
   "execution_count": 7,
   "metadata": {
    "collapsed": false
   },
   "outputs": [],
   "source": [
    "#Assigning the file 'austen-emma.txt' to the variable 'path'\n",
    "path = nltk.data.find('corpora/gutenberg/austen-emma.txt')\n",
    "\n",
    "#Assigning the variable 'd' with the path to the particular corpus file using glob.glob\n",
    "d = glob.glob(path)\n",
    "for w in d:\n",
    "    with open(w) as textfile:  #opening the file\n",
    "        text = textfile.read() #reading the file into the variable 'text'"
   ]
  },
  {
   "cell_type": "code",
   "execution_count": 8,
   "metadata": {
    "collapsed": false
   },
   "outputs": [
    {
     "name": "stdout",
     "output_type": "stream",
     "text": [
      "120701\n"
     ]
    }
   ],
   "source": [
    "#Importing the package re (regular expression)\n",
    "import re\n",
    "\n",
    "#Finding all the alphabets and numbers out of the text file\n",
    "words = re.findall(r'(\\b[A-Za-z][a-z]{2,9}\\b)',text)\n",
    "\n",
    "#Taking out the total number of words and assigning to the variable 'Number'\n",
    "Number = len(words)\n",
    "\n",
    "#Printing the total number of words\n",
    "print(Number)"
   ]
  },
  {
   "cell_type": "code",
   "execution_count": 9,
   "metadata": {
    "collapsed": false
   },
   "outputs": [],
   "source": [
    "dictionary = dict()\n",
    "for c in words:\n",
    "    if c not in dictionary:\n",
    "        dictionary[c]=1\n",
    "    else:\n",
    "        dictionary[c] += 1\n",
    "w_sorted = sorted(dictionary.items(), key = lambda x : x[1] ,reverse = True)"
   ]
  },
  {
   "cell_type": "code",
   "execution_count": 10,
   "metadata": {
    "collapsed": false
   },
   "outputs": [],
   "source": [
    "#Importing the csv package\n",
    "import csv\n",
    "\n",
    "#Opening the file 'austen-emma.txt' with mode as 'write' \n",
    "with open(('austen-emma.csv'), 'w', newline=\"\") as F_csv:\n",
    "    output = csv.writer(F_csv) #converts F_csv suitable for writing and assigning it into output\n",
    "    output.writerow(['Words', 'Frequency', 'Rank']) #Iterating the data over the rows \n",
    "    rank = 1\n",
    "    for row in w_sorted: #Running a for loop for each row in the sorted data, iterate and write through the rows\n",
    "        output.writerow([row[0], row[1], rank])\n",
    "        rank += 1\n",
    "        F_csv.close"
   ]
  },
  {
   "cell_type": "code",
   "execution_count": 11,
   "metadata": {
    "collapsed": false
   },
   "outputs": [
    {
     "data": {
      "image/png": "[encoded data removed]",
      "text/plain": [
       "<matplotlib.figure.Figure at 0x17460192c50>"
      ]
     },
     "metadata": {},
     "output_type": "display_data"
    }
   ],
   "source": [
    "#Importing the matplotlib.pyplot package\n",
    "import matplotlib.pyplot as plt\n",
    "\n",
    "#opening and reading the austen-emma.txt file and assigning it to csvfile \n",
    "csvfile = open('austen-emma.csv', 'r')\n",
    "\n",
    "#opening three empty lists \n",
    "words = []\n",
    "frequency = []\n",
    "rank = []\n",
    "\n",
    "#Taking out the data from the csvfile and reading it into file_csv variable\n",
    "file_csv = csv.reader(csvfile)\n",
    "\n",
    "#Running a for loop for each row in the file_csv and appending the data\n",
    "for row in file_csv:\n",
    "    words.append(row[0])\n",
    "    frequency.append(row[1])\n",
    "    rank.append(row[2])\n",
    "rank.pop(0) #removes the 0th line from rank\n",
    "frequency.pop(0) #removes the 0th line from frequency\n",
    "plt.loglog(frequency,rank,color='b',linewidth=2) #Creating a logarithmic plot giving the x and y axis\n",
    "plt.grid(True) #Giving true for grid in the plot\n",
    "plt.title(\"Gutenberg Corpus - Zipf Plot\") #Giving the title of the plot\n",
    "plt.xlabel(\"Log rank\") #Giving the x axis label\n",
    "plt.ylabel(\"Log frequency\") #Giving the y axis label\n",
    "plt.show() #Showing the plot"
   ]
  },
  {
   "cell_type": "markdown",
   "metadata": {},
   "source": [
    "# The graph is plotted by giving log(r)  in x axis and log(freq(r)) in y axis. The plot gives us a line with slope as -1 which proves that the Zipf's law holds true for the austen-emma.txt file from gutenberg corpus."
   ]
  }
 ],
 "metadata": {
  "anaconda-cloud": {},
  "kernelspec": {
   "display_name": "Python [conda root]",
   "language": "python",
   "name": "conda-root-py"
  },
  "language_info": {
   "codemirror_mode": {
    "name": "ipython",
    "version": 3
   },
   "file_extension": ".py",
   "mimetype": "text/x-python",
   "name": "python",
   "nbconvert_exporter": "python",
   "pygments_lexer": "ipython3",
   "version": "3.5.2"
  }
 },
 "nbformat": 4,
 "nbformat_minor": 1
}
