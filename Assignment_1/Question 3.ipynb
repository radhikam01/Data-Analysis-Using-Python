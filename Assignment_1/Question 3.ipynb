{
 "cells": [
  {
   "cell_type": "markdown",
   "metadata": {},
   "source": [
    "# Question 3 : Under package Webtext, see what files are in it.\n",
    "Get content in file 'pirates.txt'.\n",
    "According to the number of lines for Jack Sparrow and Will Turner, find out who is the real leading man in this movie.\n"
   ]
  },
  {
   "cell_type": "code",
   "execution_count": 1,
   "metadata": {
    "collapsed": false
   },
   "outputs": [
    {
     "name": "stdout",
     "output_type": "stream",
     "text": [
      "Number of lines for Jack Sparrow:  193\n",
      "Number of lines for Will Turner:  133\n",
      "Are Jack's lines more than Will's lines?  True\n"
     ]
    }
   ],
   "source": [
    "import nltk\n",
    "from nltk.corpus import webtext #Importing webtext corpus\n",
    "webtext.fileids()\n",
    "text = nltk.corpus.webtext.raw('pirates.txt') #Taking the raw data and putting into text \n",
    "import re #Importing regular expressions\n",
    "Jack = len(re.findall('JACK SPARROW',text)) #Finding the word 'JACK SPARROW'\n",
    "Will = len(re.findall('WILL TURNER',text)) #Finding the word 'WILL TURNER'\n",
    "print(\"Number of lines for Jack Sparrow: \",Jack)\n",
    "print(\"Number of lines for Will Turner: \",Will)\n",
    "print(\"Are Jack's lines more than Will's lines? \", Jack > Will)"
   ]
  }
 ],
 "metadata": {
  "anaconda-cloud": {},
  "kernelspec": {
   "display_name": "Python [conda root]",
   "language": "python",
   "name": "conda-root-py"
  },
  "language_info": {
   "codemirror_mode": {
    "name": "ipython",
    "version": 3
   },
   "file_extension": ".py",
   "mimetype": "text/x-python",
   "name": "python",
   "nbconvert_exporter": "python",
   "pygments_lexer": "ipython3",
   "version": "3.5.2"
  }
 },
 "nbformat": 4,
 "nbformat_minor": 1
}
