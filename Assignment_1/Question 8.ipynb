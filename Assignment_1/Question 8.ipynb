{
 "cells": [
  {
   "cell_type": "markdown",
   "metadata": {},
   "source": [
    "# Question 8: Find out how many unusual words people speak in chat (notice: usernames should not be counted)"
   ]
  },
  {
   "cell_type": "code",
   "execution_count": 5,
   "metadata": {
    "collapsed": false
   },
   "outputs": [
    {
     "name": "stdout",
     "output_type": "stream",
     "text": [
      "5274\n"
     ]
    }
   ],
   "source": [
    "#Words from nps_chat excluding the usernames \n",
    "import nltk\n",
    "from nltk.corpus import nps_chat #Importing nps_chat corpus\n",
    "file = nps_chat.fileids()\n",
    "words = [] #Creating an empty list \n",
    "from xml.etree import ElementTree as ET #Importing Element Tree\n",
    "for id in file:\n",
    "    chats = nps_chat.raw(id)\n",
    "    chats_xml = ET.fromstring(chats) #Getting all chats into chats_xml using ET\n",
    "    for c in chats_xml.iter('t'):\n",
    "        words.append(c.get('word'))\n",
    "nps_words = set()\n",
    "for word in words: #Running a for loop for excluding the users\n",
    "    if 'User' not in word:\n",
    "        nps_words.add(word.lower());\n",
    "print(len(nps_words))                        "
   ]
  },
  {
   "cell_type": "code",
   "execution_count": 6,
   "metadata": {
    "collapsed": false
   },
   "outputs": [
    {
     "name": "stdout",
     "output_type": "stream",
     "text": [
      "234377\n"
     ]
    }
   ],
   "source": [
    "# words from WordsList\n",
    "words_id = nltk.corpus.words.fileids() \n",
    "w_list = [] #Opening an empty list\n",
    "for id in words_id: #Running a for loop for each file in the words corpus\n",
    "    all_words = nltk.corpus.words.words(id)\n",
    "    for word in all_words: #Running a for loop for each word in all the words of words corpus\n",
    "        w_list.append(word.lower()) #Adding it the list after changing it into lower case\n",
    "words_set = set(w_list)\n",
    "print(len(words_set))"
   ]
  },
  {
   "cell_type": "code",
   "execution_count": 8,
   "metadata": {
    "collapsed": false
   },
   "outputs": [
    {
     "name": "stdout",
     "output_type": "stream",
     "text": [
      "2698\n"
     ]
    }
   ],
   "source": [
    "# words not present in words-list\n",
    "final_words = set()\n",
    "for nps_chat in nps_words:\n",
    "    if nps_chat not in words_set:\n",
    "        final_words.add(nps_chat)\n",
    "print(len(final_words))"
   ]
  }
 ],
 "metadata": {
  "anaconda-cloud": {},
  "kernelspec": {
   "display_name": "Python [conda root]",
   "language": "python",
   "name": "conda-root-py"
  },
  "language_info": {
   "codemirror_mode": {
    "name": "ipython",
    "version": 3
   },
   "file_extension": ".py",
   "mimetype": "text/x-python",
   "name": "python",
   "nbconvert_exporter": "python",
   "pygments_lexer": "ipython3",
   "version": "3.5.2"
  }
 },
 "nbformat": 4,
 "nbformat_minor": 1
}
