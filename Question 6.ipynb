{
 "cells": [
  {
   "cell_type": "markdown",
   "metadata": {},
   "source": [
    "# Question 6: For every president, find out how many unique words they used in speech."
   ]
  },
  {
   "cell_type": "code",
   "execution_count": 5,
   "metadata": {
    "collapsed": false
   },
   "outputs": [
    {
     "name": "stdout",
     "output_type": "stream",
     "text": [
      " Unique words used by Washington in their speech :628\n",
      " Unique words used by Adams in their speech :828\n",
      " Unique words used by Jefferson in their speech :717\n",
      " Unique words used by Madison in their speech :537\n",
      " Unique words used by Monroe in their speech :1041\n",
      " Unique words used by Jackson in their speech :517\n",
      " Unique words used by VanBuren in their speech :1318\n",
      " Unique words used by Harrison in their speech :1893\n",
      " Unique words used by Polk in their speech :1333\n",
      " Unique words used by Taylor in their speech :499\n",
      " Unique words used by Pierce in their speech :1168\n",
      " Unique words used by Buchanan in their speech :948\n",
      " Unique words used by Lincoln in their speech :1078\n",
      " Unique words used by Grant in their speech :489\n",
      " Unique words used by Hayes in their speech :832\n",
      " Unique words used by Garfield in their speech :1022\n",
      " Unique words used by Cleveland in their speech :676\n",
      " Unique words used by McKinley in their speech :1239\n",
      " Unique words used by Roosevelt in their speech :405\n",
      " Unique words used by Taft in their speech :1439\n",
      " Unique words used by Wilson in their speech :661\n",
      " Unique words used by Harding in their speech :1170\n",
      " Unique words used by Coolidge in their speech :1221\n",
      " Unique words used by Hoover in their speech :1087\n",
      " Unique words used by Truman in their speech :781\n",
      " Unique words used by Eisenhower in their speech :899\n",
      " Unique words used by Kennedy in their speech :570\n",
      " Unique words used by Johnson in their speech :571\n",
      " Unique words used by Nixon in their speech :743\n",
      " Unique words used by Carter in their speech :529\n",
      " Unique words used by Reagan in their speech :907\n",
      " Unique words used by Bush in their speech :793\n",
      " Unique words used by Clinton in their speech :643\n",
      " Unique words used by Obama in their speech :938\n"
     ]
    }
   ],
   "source": [
    "import nltk\n",
    "from nltk.corpus import inaugural\n",
    "president_files = inaugural.fileids()\n",
    "president_names = []\n",
    "duplicate_names = []\n",
    "final = {}\n",
    "for file in president_files:\n",
    "    president = file[5:-4]\n",
    "    if president not in president_names:\n",
    "        president_names.append(president)\n",
    "        count = []\n",
    "        for word in inaugural.words(file):\n",
    "            count.append(word)\n",
    "        len_count=len(set(count))\n",
    "        print(' Unique words used by ' +president + ' in their speech :' + str(len_count),sep=' ')"
   ]
  }
 ],
 "metadata": {
  "anaconda-cloud": {},
  "kernelspec": {
   "display_name": "Python [conda root]",
   "language": "python",
   "name": "conda-root-py"
  },
  "language_info": {
   "codemirror_mode": {
    "name": "ipython",
    "version": 3
   },
   "file_extension": ".py",
   "mimetype": "text/x-python",
   "name": "python",
   "nbconvert_exporter": "python",
   "pygments_lexer": "ipython3",
   "version": "3.5.2"
  }
 },
 "nbformat": 4,
 "nbformat_minor": 1
}
